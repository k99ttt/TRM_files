{
 "cells": [
  {
   "attachments": {},
   "cell_type": "markdown",
   "metadata": {},
   "source": [
    "# TRM\n",
    "Have you ever thought about automating repetitive tasks?\n",
    "so we have Task Recommender Machine (TRM) for you :)) \n",
    "\n",
    "thats powerd by reletivly big data and recurrent neural networks"
   ]
  },
  {
   "cell_type": "code",
   "execution_count": 1,
   "metadata": {},
   "outputs": [],
   "source": [
    "# imports as always \n",
    "import sys\n",
    "import pandas as pd\n",
    "import datetime\n",
    "from datetime import datetime\n",
    "from datetime import timedelta\n",
    "import time\n",
    "import random\n",
    "import numpy as np\n",
    "import warnings\n",
    "import matplotlib.pyplot as plt\n",
    "warnings.simplefilter(action='ignore')"
   ]
  },
  {
   "attachments": {},
   "cell_type": "markdown",
   "metadata": {},
   "source": [
    "## time sampling\n",
    "time sampling for a person that she started her job at 09/01/2022 and workin 9 hours a day with some taskes "
   ]
  },
  {
   "attachments": {},
   "cell_type": "markdown",
   "metadata": {},
   "source": [
    "## Helper Functions for time sampling "
   ]
  },
  {
   "cell_type": "code",
   "execution_count": 2,
   "metadata": {},
   "outputs": [],
   "source": [
    "def toTimeSpace(string,start = '00:00:00'):\n",
    "    # string type is  \"%m/%d/%Y %H:%M:%S\"\n",
    "    start_minutes = datetime.strptime(start, '%H:%M:%S').minute + datetime.strptime(start, '%H:%M:%S').hour * 60\n",
    "    splited = string.split()\n",
    "    day = splited[0]\n",
    "    clock = splited[1]\n",
    "    splited = clock.split(':')\n",
    "    hour = splited[0]\n",
    "    minute = splited[1]\n",
    "    second = splited[2]\n",
    "    #score = 60 * (int(splited[0]) - datetime.strptime(start, '%H:%M:%S').hour ) + int(splited[1])\n",
    "    score = (60 * int(hour) + int(minute)) - start_minutes\n",
    "    return score"
   ]
  },
  {
   "cell_type": "code",
   "execution_count": 3,
   "metadata": {},
   "outputs": [],
   "source": [
    "def idGenerator(num):\n",
    "    bias = 1000\n",
    "    array = np.arange(0,num) + bias\n",
    "    array = array.astype(int)\n",
    "    return array"
   ]
  },
  {
   "cell_type": "code",
   "execution_count": 4,
   "metadata": {},
   "outputs": [],
   "source": [
    "def clock(string,worksPerDay = 9,start = '09:00:00',stop = '18:00:00'):\n",
    "    #-----------------------------------------------------------------\n",
    "    datetime_object = datetime.strptime(string, '%m/%d/%Y %H:%M:%S')\n",
    "    #-----------------------------------------------------------------\n",
    "    stop_minutes = datetime.strptime(stop, '%H:%M:%S').minute + datetime.strptime(stop, '%H:%M:%S').hour * 60\n",
    "    start_minutes = datetime.strptime(start, '%H:%M:%S').minute + datetime.strptime(start, '%H:%M:%S').hour * 60\n",
    "    #-----------------------------------------------------------------\n",
    "    rdn = random.randint(1,int((stop_minutes - start_minutes)/worksPerDay))\n",
    "    value = datetime_object + timedelta(minutes = rdn)\n",
    "    if value.hour >= datetime.strptime(stop, '%H:%M:%S').hour :\n",
    "        value = value - timedelta(minutes = value.minute)\n",
    "        value = value + timedelta(hours = 15)\n",
    "        datetime_object = value\n",
    "    else:\n",
    "       datetime_object = value\n",
    "       \n",
    "    if value.strftime('%a') =='Fri':\n",
    "        datetime_object = datetime_object - timedelta(minutes = value.minute)\n",
    "        datetime_object = datetime_object + timedelta(days = 1)   \n",
    "    #-----------------------------------------------------------------\n",
    "    return(datetime_object.strftime(\"%m/%d/%Y %H:%M:%S\"))"
   ]
  },
  {
   "attachments": {},
   "cell_type": "markdown",
   "metadata": {},
   "source": [
    "## dictionary contains all paths(work's)"
   ]
  },
  {
   "cell_type": "code",
   "execution_count": 5,
   "metadata": {},
   "outputs": [
    {
     "data": {
      "text/plain": [
       "'folder1'"
      ]
     },
     "execution_count": 5,
     "metadata": {},
     "output_type": "execute_result"
    }
   ],
   "source": [
    "#dictionary contains all paths that you can add or remove \n",
    "dirs = {'/Desktop/folder9','/Desktop/folder8','/Desktop/folder1','/Desktop/folder2','/Desktop/folder3','/Desktop/folder4','/Desktop/folder5','/Desktop/folder6','/Desktop/data/folder7'}\n",
    "dirs = list(dirs)\n",
    "dirs[random.randint(0,len(dirs)-1)].split(\"/\")[-1]"
   ]
  },
  {
   "cell_type": "code",
   "execution_count": 6,
   "metadata": {},
   "outputs": [],
   "source": [
    "def sampling(persons,worksPerDay,lenOfData):\n",
    "    data = pd.DataFrame({'id': [0],'time' : [0],'log' : ['/']})\n",
    "    ids = iter(idGenerator(lenOfData))\n",
    "    #-----------------------------------------------------\n",
    "    for i in range(persons):\n",
    "        worksPerDay = int(np.random.normal(worksPerDay, 0.3, 1))\n",
    "        init = '09/01/2022 09:00:00'\n",
    "        thisId = next(ids)\n",
    "        df = pd.DataFrame({'id': thisId,'time' : [init],'log' : dirs[random.randint(0,len(dirs)-1)].split(\"/\")[-1]})\n",
    "        for j in range(int(lenOfData/persons)):\n",
    "            init = clock(init,worksPerDay)\n",
    "            df_new = pd.DataFrame({'id': thisId,'time' : [init],'log' : dirs[random.randint(0,len(dirs)-1)].split(\"/\")[-1]})\n",
    "            df = pd.concat([df,df_new], ignore_index = True)\n",
    "        data = pd.concat([data,df], ignore_index = True)\n",
    "    #-----------------------------------------------------\n",
    "    #dropping first row and re indexing\n",
    "    data.drop(index=(0),inplace=True)\n",
    "    data.index = data.index -1 \n",
    "\n",
    "    data.sort_values(by='time',inplace=True)\n",
    "    data.index = np.arange(0,len(data))\n",
    "    \n",
    "    for i in range(len(data) - lenOfData):\n",
    "        data.drop(index=(len(data)-1),inplace=True)\n",
    "    \n",
    "    #saving data to file in csv \n",
    "    data.to_csv('data.csv', index=True) \n",
    "    return data\n"
   ]
  },
  {
   "cell_type": "code",
   "execution_count": 7,
   "metadata": {},
   "outputs": [
    {
     "data": {
      "text/html": [
       "<div>\n",
       "<style scoped>\n",
       "    .dataframe tbody tr th:only-of-type {\n",
       "        vertical-align: middle;\n",
       "    }\n",
       "\n",
       "    .dataframe tbody tr th {\n",
       "        vertical-align: top;\n",
       "    }\n",
       "\n",
       "    .dataframe thead th {\n",
       "        text-align: right;\n",
       "    }\n",
       "</style>\n",
       "<table border=\"1\" class=\"dataframe\">\n",
       "  <thead>\n",
       "    <tr style=\"text-align: right;\">\n",
       "      <th></th>\n",
       "      <th>id</th>\n",
       "      <th>time</th>\n",
       "      <th>log</th>\n",
       "    </tr>\n",
       "  </thead>\n",
       "  <tbody>\n",
       "    <tr>\n",
       "      <th>0</th>\n",
       "      <td>1000</td>\n",
       "      <td>09/01/2022 09:00:00</td>\n",
       "      <td>folder9</td>\n",
       "    </tr>\n",
       "    <tr>\n",
       "      <th>1</th>\n",
       "      <td>1002</td>\n",
       "      <td>09/01/2022 09:00:00</td>\n",
       "      <td>folder8</td>\n",
       "    </tr>\n",
       "    <tr>\n",
       "      <th>2</th>\n",
       "      <td>1003</td>\n",
       "      <td>09/01/2022 09:00:00</td>\n",
       "      <td>folder4</td>\n",
       "    </tr>\n",
       "    <tr>\n",
       "      <th>3</th>\n",
       "      <td>1009</td>\n",
       "      <td>09/01/2022 09:00:00</td>\n",
       "      <td>folder6</td>\n",
       "    </tr>\n",
       "    <tr>\n",
       "      <th>4</th>\n",
       "      <td>1005</td>\n",
       "      <td>09/01/2022 09:00:00</td>\n",
       "      <td>folder2</td>\n",
       "    </tr>\n",
       "    <tr>\n",
       "      <th>...</th>\n",
       "      <td>...</td>\n",
       "      <td>...</td>\n",
       "      <td>...</td>\n",
       "    </tr>\n",
       "    <tr>\n",
       "      <th>595</th>\n",
       "      <td>1008</td>\n",
       "      <td>09/04/2022 14:30:00</td>\n",
       "      <td>folder8</td>\n",
       "    </tr>\n",
       "    <tr>\n",
       "      <th>596</th>\n",
       "      <td>1009</td>\n",
       "      <td>09/04/2022 14:40:00</td>\n",
       "      <td>folder7</td>\n",
       "    </tr>\n",
       "    <tr>\n",
       "      <th>597</th>\n",
       "      <td>1000</td>\n",
       "      <td>09/04/2022 14:45:00</td>\n",
       "      <td>folder6</td>\n",
       "    </tr>\n",
       "    <tr>\n",
       "      <th>598</th>\n",
       "      <td>1000</td>\n",
       "      <td>09/04/2022 14:51:00</td>\n",
       "      <td>folder9</td>\n",
       "    </tr>\n",
       "    <tr>\n",
       "      <th>599</th>\n",
       "      <td>1008</td>\n",
       "      <td>09/04/2022 14:52:00</td>\n",
       "      <td>folder3</td>\n",
       "    </tr>\n",
       "  </tbody>\n",
       "</table>\n",
       "<p>600 rows × 3 columns</p>\n",
       "</div>"
      ],
      "text/plain": [
       "       id                 time      log\n",
       "0    1000  09/01/2022 09:00:00  folder9\n",
       "1    1002  09/01/2022 09:00:00  folder8\n",
       "2    1003  09/01/2022 09:00:00  folder4\n",
       "3    1009  09/01/2022 09:00:00  folder6\n",
       "4    1005  09/01/2022 09:00:00  folder2\n",
       "..    ...                  ...      ...\n",
       "595  1008  09/04/2022 14:30:00  folder8\n",
       "596  1009  09/04/2022 14:40:00  folder7\n",
       "597  1000  09/04/2022 14:45:00  folder6\n",
       "598  1000  09/04/2022 14:51:00  folder9\n",
       "599  1008  09/04/2022 14:52:00  folder3\n",
       "\n",
       "[600 rows x 3 columns]"
      ]
     },
     "execution_count": 7,
     "metadata": {},
     "output_type": "execute_result"
    }
   ],
   "source": [
    "#runing sampling code and write it's return to CSV\n",
    "sampling(persons = 10,worksPerDay = 12,lenOfData = 600)"
   ]
  },
  {
   "attachments": {},
   "cell_type": "markdown",
   "metadata": {},
   "source": [
    "# no time base data for TRM"
   ]
  },
  {
   "attachments": {},
   "cell_type": "markdown",
   "metadata": {},
   "source": [
    "In this part, the time of doing the work is not important, the order of doing the work is important In such a way that any work is recommended immediately after the previous work"
   ]
  },
  {
   "cell_type": "code",
   "execution_count": 8,
   "metadata": {},
   "outputs": [
    {
     "data": {
      "text/html": [
       "<div>\n",
       "<style scoped>\n",
       "    .dataframe tbody tr th:only-of-type {\n",
       "        vertical-align: middle;\n",
       "    }\n",
       "\n",
       "    .dataframe tbody tr th {\n",
       "        vertical-align: top;\n",
       "    }\n",
       "\n",
       "    .dataframe thead th {\n",
       "        text-align: right;\n",
       "    }\n",
       "</style>\n",
       "<table border=\"1\" class=\"dataframe\">\n",
       "  <thead>\n",
       "    <tr style=\"text-align: right;\">\n",
       "      <th></th>\n",
       "      <th>id</th>\n",
       "      <th>time</th>\n",
       "      <th>log</th>\n",
       "    </tr>\n",
       "  </thead>\n",
       "  <tbody>\n",
       "    <tr>\n",
       "      <th>0</th>\n",
       "      <td>1000</td>\n",
       "      <td>09/01/2022 09:00:00</td>\n",
       "      <td>folder9</td>\n",
       "    </tr>\n",
       "    <tr>\n",
       "      <th>1</th>\n",
       "      <td>1002</td>\n",
       "      <td>09/01/2022 09:00:00</td>\n",
       "      <td>folder8</td>\n",
       "    </tr>\n",
       "    <tr>\n",
       "      <th>2</th>\n",
       "      <td>1003</td>\n",
       "      <td>09/01/2022 09:00:00</td>\n",
       "      <td>folder4</td>\n",
       "    </tr>\n",
       "    <tr>\n",
       "      <th>3</th>\n",
       "      <td>1009</td>\n",
       "      <td>09/01/2022 09:00:00</td>\n",
       "      <td>folder6</td>\n",
       "    </tr>\n",
       "    <tr>\n",
       "      <th>4</th>\n",
       "      <td>1005</td>\n",
       "      <td>09/01/2022 09:00:00</td>\n",
       "      <td>folder2</td>\n",
       "    </tr>\n",
       "    <tr>\n",
       "      <th>...</th>\n",
       "      <td>...</td>\n",
       "      <td>...</td>\n",
       "      <td>...</td>\n",
       "    </tr>\n",
       "    <tr>\n",
       "      <th>595</th>\n",
       "      <td>1008</td>\n",
       "      <td>09/04/2022 14:30:00</td>\n",
       "      <td>folder8</td>\n",
       "    </tr>\n",
       "    <tr>\n",
       "      <th>596</th>\n",
       "      <td>1009</td>\n",
       "      <td>09/04/2022 14:40:00</td>\n",
       "      <td>folder7</td>\n",
       "    </tr>\n",
       "    <tr>\n",
       "      <th>597</th>\n",
       "      <td>1000</td>\n",
       "      <td>09/04/2022 14:45:00</td>\n",
       "      <td>folder6</td>\n",
       "    </tr>\n",
       "    <tr>\n",
       "      <th>598</th>\n",
       "      <td>1000</td>\n",
       "      <td>09/04/2022 14:51:00</td>\n",
       "      <td>folder9</td>\n",
       "    </tr>\n",
       "    <tr>\n",
       "      <th>599</th>\n",
       "      <td>1008</td>\n",
       "      <td>09/04/2022 14:52:00</td>\n",
       "      <td>folder3</td>\n",
       "    </tr>\n",
       "  </tbody>\n",
       "</table>\n",
       "<p>600 rows × 3 columns</p>\n",
       "</div>"
      ],
      "text/plain": [
       "       id                 time      log\n",
       "0    1000  09/01/2022 09:00:00  folder9\n",
       "1    1002  09/01/2022 09:00:00  folder8\n",
       "2    1003  09/01/2022 09:00:00  folder4\n",
       "3    1009  09/01/2022 09:00:00  folder6\n",
       "4    1005  09/01/2022 09:00:00  folder2\n",
       "..    ...                  ...      ...\n",
       "595  1008  09/04/2022 14:30:00  folder8\n",
       "596  1009  09/04/2022 14:40:00  folder7\n",
       "597  1000  09/04/2022 14:45:00  folder6\n",
       "598  1000  09/04/2022 14:51:00  folder9\n",
       "599  1008  09/04/2022 14:52:00  folder3\n",
       "\n",
       "[600 rows x 3 columns]"
      ]
     },
     "execution_count": 8,
     "metadata": {},
     "output_type": "execute_result"
    }
   ],
   "source": [
    "#loading data from CSV\n",
    "data = pd.read_csv('data.csv') \n",
    "data.drop(columns=('Unnamed: 0'),inplace=True)\n",
    "data"
   ]
  },
  {
   "attachments": {},
   "cell_type": "markdown",
   "metadata": {},
   "source": [
    "## Data Preprocessing"
   ]
  },
  {
   "attachments": {},
   "cell_type": "markdown",
   "metadata": {},
   "source": [
    "### Helper Functions"
   ]
  },
  {
   "cell_type": "code",
   "execution_count": 9,
   "metadata": {},
   "outputs": [],
   "source": [
    "def timeFormater(string):\n",
    "    # remove '[' and %d/%b/%Y:%H:%M:%S to %m/%d/%Y %H:%M:%S string to string\n",
    "    try:\n",
    "        string = string.replace('[', '')\n",
    "        stringToDate = datetime.strptime(string, \"%d/%b/%Y:%H:%M:%S\")\n",
    "        string = stringToDate.strftime('%m/%d/%Y %H:%M:%S')\n",
    "        return string\n",
    "    except:\n",
    "        return '?'"
   ]
  },
  {
   "cell_type": "code",
   "execution_count": 10,
   "metadata": {},
   "outputs": [],
   "source": [
    "def toTimeStamp(string):\n",
    "    return time.mktime(datetime.strptime(string,\"%m/%d/%Y %H:%M:%S\").timetuple())"
   ]
  },
  {
   "attachments": {},
   "cell_type": "markdown",
   "metadata": {},
   "source": [
    "### Data Preprocessing"
   ]
  },
  {
   "cell_type": "code",
   "execution_count": 11,
   "metadata": {},
   "outputs": [
    {
     "data": {
      "text/html": [
       "<div>\n",
       "<style scoped>\n",
       "    .dataframe tbody tr th:only-of-type {\n",
       "        vertical-align: middle;\n",
       "    }\n",
       "\n",
       "    .dataframe tbody tr th {\n",
       "        vertical-align: top;\n",
       "    }\n",
       "\n",
       "    .dataframe thead th {\n",
       "        text-align: right;\n",
       "    }\n",
       "</style>\n",
       "<table border=\"1\" class=\"dataframe\">\n",
       "  <thead>\n",
       "    <tr style=\"text-align: right;\">\n",
       "      <th></th>\n",
       "      <th>id</th>\n",
       "      <th>time</th>\n",
       "      <th>log</th>\n",
       "    </tr>\n",
       "  </thead>\n",
       "  <tbody>\n",
       "    <tr>\n",
       "      <th>0</th>\n",
       "      <td>10.130.2.1</td>\n",
       "      <td>11/07/2017 23:59:19</td>\n",
       "      <td>GET / HTTP/1.1</td>\n",
       "    </tr>\n",
       "    <tr>\n",
       "      <th>1</th>\n",
       "      <td>10.130.2.1</td>\n",
       "      <td>11/07/2017 23:59:19</td>\n",
       "      <td>GET / HTTP/1.1</td>\n",
       "    </tr>\n",
       "    <tr>\n",
       "      <th>2</th>\n",
       "      <td>10.129.2.1</td>\n",
       "      <td>11/08/2017 00:39:07</td>\n",
       "      <td>GET / HTTP/1.1</td>\n",
       "    </tr>\n",
       "    <tr>\n",
       "      <th>3</th>\n",
       "      <td>10.129.2.1</td>\n",
       "      <td>11/08/2017 00:39:07</td>\n",
       "      <td>GET /login.php HTTP/1.1</td>\n",
       "    </tr>\n",
       "    <tr>\n",
       "      <th>4</th>\n",
       "      <td>10.129.2.1</td>\n",
       "      <td>11/08/2017 00:39:07</td>\n",
       "      <td>GET /login.php HTTP/1.1</td>\n",
       "    </tr>\n",
       "    <tr>\n",
       "      <th>...</th>\n",
       "      <td>...</td>\n",
       "      <td>...</td>\n",
       "      <td>...</td>\n",
       "    </tr>\n",
       "    <tr>\n",
       "      <th>15784</th>\n",
       "      <td>10.130.2.1</td>\n",
       "      <td>03/02/2018 15:47:12</td>\n",
       "      <td>GET /showcode.php?id=309&amp;nm=ham05 HTTP/1.1</td>\n",
       "    </tr>\n",
       "    <tr>\n",
       "      <th>15785</th>\n",
       "      <td>10.130.2.1</td>\n",
       "      <td>03/02/2018 15:47:23</td>\n",
       "      <td>GET /allsubmission.php HTTP/1.1</td>\n",
       "    </tr>\n",
       "    <tr>\n",
       "      <th>15786</th>\n",
       "      <td>10.130.2.1</td>\n",
       "      <td>03/02/2018 15:47:32</td>\n",
       "      <td>GET /showcode.php?id=309&amp;nm=ham05 HTTP/1.1</td>\n",
       "    </tr>\n",
       "    <tr>\n",
       "      <th>15787</th>\n",
       "      <td>10.130.2.1</td>\n",
       "      <td>03/02/2018 15:47:35</td>\n",
       "      <td>GET /allsubmission.php HTTP/1.1</td>\n",
       "    </tr>\n",
       "    <tr>\n",
       "      <th>15788</th>\n",
       "      <td>10.130.2.1</td>\n",
       "      <td>03/02/2018 15:47:46</td>\n",
       "      <td>GET /home.php HTTP/1.1</td>\n",
       "    </tr>\n",
       "  </tbody>\n",
       "</table>\n",
       "<p>15789 rows × 3 columns</p>\n",
       "</div>"
      ],
      "text/plain": [
       "               id                 time  \\\n",
       "0      10.130.2.1  11/07/2017 23:59:19   \n",
       "1      10.130.2.1  11/07/2017 23:59:19   \n",
       "2      10.129.2.1  11/08/2017 00:39:07   \n",
       "3      10.129.2.1  11/08/2017 00:39:07   \n",
       "4      10.129.2.1  11/08/2017 00:39:07   \n",
       "...           ...                  ...   \n",
       "15784  10.130.2.1  03/02/2018 15:47:12   \n",
       "15785  10.130.2.1  03/02/2018 15:47:23   \n",
       "15786  10.130.2.1  03/02/2018 15:47:32   \n",
       "15787  10.130.2.1  03/02/2018 15:47:35   \n",
       "15788  10.130.2.1  03/02/2018 15:47:46   \n",
       "\n",
       "                                              log  \n",
       "0                                  GET / HTTP/1.1  \n",
       "1                                  GET / HTTP/1.1  \n",
       "2                                  GET / HTTP/1.1  \n",
       "3                         GET /login.php HTTP/1.1  \n",
       "4                         GET /login.php HTTP/1.1  \n",
       "...                                           ...  \n",
       "15784  GET /showcode.php?id=309&nm=ham05 HTTP/1.1  \n",
       "15785             GET /allsubmission.php HTTP/1.1  \n",
       "15786  GET /showcode.php?id=309&nm=ham05 HTTP/1.1  \n",
       "15787             GET /allsubmission.php HTTP/1.1  \n",
       "15788                      GET /home.php HTTP/1.1  \n",
       "\n",
       "[15789 rows x 3 columns]"
      ]
     },
     "execution_count": 11,
     "metadata": {},
     "output_type": "execute_result"
    }
   ],
   "source": [
    "data = pd.read_csv('weblog.csv')  #loading dataset\n",
    "data.rename(columns={\"URL\": \"log\", \"IP\": \"id\",\"Time\": \"time\"},inplace=True) \n",
    "data.drop(['Staus'], axis=1,inplace=True) # we dont need that right now !\n",
    "#------------------------------------------------------------------------\n",
    "shouldRemove = data['id'].value_counts()[data['id'].value_counts() < 100] #removing Chert!! ids :))\n",
    "for i in range(len(shouldRemove)):\n",
    "    data.drop(data.loc[data['id'] == shouldRemove.index[i]].index,inplace=True)# it Automaticly delete's time missing values\n",
    "#------------------------------------------------------------------------\n",
    "data['time'] = data ['time'].apply(timeFormater) #changing time format to smother one\n",
    "data['timestamp'] = data ['time'].apply(toTimeStamp) #time stamp for best sorting by time\n",
    "data.sort_values(by='timestamp',ascending=True,inplace=True) #sorting by time\n",
    "data.drop(['timestamp'], axis=1,inplace=True) #removing time stamp , we dont need that anymore !\n",
    "#------------------------------------------------------------------------\n",
    "data.reset_index(inplace=True) #reset index \n",
    "data.drop(['index'], axis=1,inplace=True)#remove old index \n",
    "data"
   ]
  },
  {
   "cell_type": "code",
   "execution_count": 12,
   "metadata": {},
   "outputs": [
    {
     "data": {
      "text/plain": [
       "'11/07/2017 23:59:19'"
      ]
     },
     "execution_count": 12,
     "metadata": {},
     "output_type": "execute_result"
    }
   ],
   "source": [
    "startDate = data.loc[0]['time']\n",
    "startDate"
   ]
  },
  {
   "cell_type": "code",
   "execution_count": 13,
   "metadata": {},
   "outputs": [
    {
     "data": {
      "text/html": [
       "<div>\n",
       "<style scoped>\n",
       "    .dataframe tbody tr th:only-of-type {\n",
       "        vertical-align: middle;\n",
       "    }\n",
       "\n",
       "    .dataframe tbody tr th {\n",
       "        vertical-align: top;\n",
       "    }\n",
       "\n",
       "    .dataframe thead th {\n",
       "        text-align: right;\n",
       "    }\n",
       "</style>\n",
       "<table border=\"1\" class=\"dataframe\">\n",
       "  <thead>\n",
       "    <tr style=\"text-align: right;\">\n",
       "      <th></th>\n",
       "      <th>id</th>\n",
       "      <th>time</th>\n",
       "      <th>log</th>\n",
       "    </tr>\n",
       "  </thead>\n",
       "  <tbody>\n",
       "    <tr>\n",
       "      <th>0</th>\n",
       "      <td>10.130.2.1</td>\n",
       "      <td>11/07/2017 23:59:19</td>\n",
       "      <td>GET / HTTP/1.1</td>\n",
       "    </tr>\n",
       "    <tr>\n",
       "      <th>1</th>\n",
       "      <td>10.130.2.1</td>\n",
       "      <td>11/07/2017 23:59:19</td>\n",
       "      <td>GET / HTTP/1.1</td>\n",
       "    </tr>\n",
       "    <tr>\n",
       "      <th>16</th>\n",
       "      <td>10.130.2.1</td>\n",
       "      <td>11/08/2017 05:01:24</td>\n",
       "      <td>GET /login.php HTTP/1.1</td>\n",
       "    </tr>\n",
       "    <tr>\n",
       "      <th>17</th>\n",
       "      <td>10.130.2.1</td>\n",
       "      <td>11/08/2017 05:01:24</td>\n",
       "      <td>GET /login.php HTTP/1.1</td>\n",
       "    </tr>\n",
       "    <tr>\n",
       "      <th>50</th>\n",
       "      <td>10.130.2.1</td>\n",
       "      <td>11/08/2017 15:56:23</td>\n",
       "      <td>GET / HTTP/1.1</td>\n",
       "    </tr>\n",
       "    <tr>\n",
       "      <th>...</th>\n",
       "      <td>...</td>\n",
       "      <td>...</td>\n",
       "      <td>...</td>\n",
       "    </tr>\n",
       "    <tr>\n",
       "      <th>15784</th>\n",
       "      <td>10.130.2.1</td>\n",
       "      <td>03/02/2018 15:47:12</td>\n",
       "      <td>GET /showcode.php?id=309&amp;nm=ham05 HTTP/1.1</td>\n",
       "    </tr>\n",
       "    <tr>\n",
       "      <th>15785</th>\n",
       "      <td>10.130.2.1</td>\n",
       "      <td>03/02/2018 15:47:23</td>\n",
       "      <td>GET /allsubmission.php HTTP/1.1</td>\n",
       "    </tr>\n",
       "    <tr>\n",
       "      <th>15786</th>\n",
       "      <td>10.130.2.1</td>\n",
       "      <td>03/02/2018 15:47:32</td>\n",
       "      <td>GET /showcode.php?id=309&amp;nm=ham05 HTTP/1.1</td>\n",
       "    </tr>\n",
       "    <tr>\n",
       "      <th>15787</th>\n",
       "      <td>10.130.2.1</td>\n",
       "      <td>03/02/2018 15:47:35</td>\n",
       "      <td>GET /allsubmission.php HTTP/1.1</td>\n",
       "    </tr>\n",
       "    <tr>\n",
       "      <th>15788</th>\n",
       "      <td>10.130.2.1</td>\n",
       "      <td>03/02/2018 15:47:46</td>\n",
       "      <td>GET /home.php HTTP/1.1</td>\n",
       "    </tr>\n",
       "  </tbody>\n",
       "</table>\n",
       "<p>4056 rows × 3 columns</p>\n",
       "</div>"
      ],
      "text/plain": [
       "               id                 time  \\\n",
       "0      10.130.2.1  11/07/2017 23:59:19   \n",
       "1      10.130.2.1  11/07/2017 23:59:19   \n",
       "16     10.130.2.1  11/08/2017 05:01:24   \n",
       "17     10.130.2.1  11/08/2017 05:01:24   \n",
       "50     10.130.2.1  11/08/2017 15:56:23   \n",
       "...           ...                  ...   \n",
       "15784  10.130.2.1  03/02/2018 15:47:12   \n",
       "15785  10.130.2.1  03/02/2018 15:47:23   \n",
       "15786  10.130.2.1  03/02/2018 15:47:32   \n",
       "15787  10.130.2.1  03/02/2018 15:47:35   \n",
       "15788  10.130.2.1  03/02/2018 15:47:46   \n",
       "\n",
       "                                              log  \n",
       "0                                  GET / HTTP/1.1  \n",
       "1                                  GET / HTTP/1.1  \n",
       "16                        GET /login.php HTTP/1.1  \n",
       "17                        GET /login.php HTTP/1.1  \n",
       "50                                 GET / HTTP/1.1  \n",
       "...                                           ...  \n",
       "15784  GET /showcode.php?id=309&nm=ham05 HTTP/1.1  \n",
       "15785             GET /allsubmission.php HTTP/1.1  \n",
       "15786  GET /showcode.php?id=309&nm=ham05 HTTP/1.1  \n",
       "15787             GET /allsubmission.php HTTP/1.1  \n",
       "15788                      GET /home.php HTTP/1.1  \n",
       "\n",
       "[4056 rows x 3 columns]"
      ]
     },
     "execution_count": 13,
     "metadata": {},
     "output_type": "execute_result"
    }
   ],
   "source": [
    "data.loc[data['id'] == '10.130.2.1']"
   ]
  },
  {
   "attachments": {},
   "cell_type": "markdown",
   "metadata": {},
   "source": [
    "# Some helper functions"
   ]
  },
  {
   "cell_type": "code",
   "execution_count": 14,
   "metadata": {},
   "outputs": [],
   "source": [
    "def toDays(date,startDate='11/07/2017 9:00:00'):\n",
    "    #it takes a date and give us how many mitunes away from everyday starting date \n",
    "    date = datetime.strptime(date, '%m/%d/%Y %H:%M:%S')\n",
    "    startDate = datetime.strptime(startDate, '%m/%d/%Y %H:%M:%S')\n",
    "    return (date.year - startDate.year) * 366 + (date.month - startDate.month) * 31 + (date.day - startDate.day)"
   ]
  },
  {
   "cell_type": "code",
   "execution_count": 15,
   "metadata": {},
   "outputs": [],
   "source": [
    "def weekDay(datetime_str):\n",
    "    #it takes a date and give us weekDay! like Mon,Thu,Wed\n",
    "    date = datetime.strptime(datetime_str, '%m/%d/%Y %H:%M:%S')\n",
    "    return date.strftime(\"%a\")"
   ]
  },
  {
   "cell_type": "code",
   "execution_count": 16,
   "metadata": {},
   "outputs": [
    {
     "data": {
      "text/plain": [
       "2"
      ]
     },
     "execution_count": 16,
     "metadata": {},
     "output_type": "execute_result"
    }
   ],
   "source": [
    "toDays('11/09/2017 23:59:19')"
   ]
  },
  {
   "attachments": {},
   "cell_type": "markdown",
   "metadata": {},
   "source": [
    "# Feature extraction"
   ]
  },
  {
   "cell_type": "code",
   "execution_count": 17,
   "metadata": {},
   "outputs": [
    {
     "data": {
      "text/html": [
       "<div>\n",
       "<style scoped>\n",
       "    .dataframe tbody tr th:only-of-type {\n",
       "        vertical-align: middle;\n",
       "    }\n",
       "\n",
       "    .dataframe tbody tr th {\n",
       "        vertical-align: top;\n",
       "    }\n",
       "\n",
       "    .dataframe thead th {\n",
       "        text-align: right;\n",
       "    }\n",
       "</style>\n",
       "<table border=\"1\" class=\"dataframe\">\n",
       "  <thead>\n",
       "    <tr style=\"text-align: right;\">\n",
       "      <th></th>\n",
       "      <th>id</th>\n",
       "      <th>time</th>\n",
       "      <th>log</th>\n",
       "      <th>day</th>\n",
       "      <th>weekday</th>\n",
       "      <th>timeSerious</th>\n",
       "    </tr>\n",
       "  </thead>\n",
       "  <tbody>\n",
       "    <tr>\n",
       "      <th>0</th>\n",
       "      <td>10.130.2.1</td>\n",
       "      <td>11/07/2017 23:59:19</td>\n",
       "      <td>GET / HTTP/1.1</td>\n",
       "      <td>0</td>\n",
       "      <td>Tue</td>\n",
       "      <td>1439</td>\n",
       "    </tr>\n",
       "    <tr>\n",
       "      <th>1</th>\n",
       "      <td>10.130.2.1</td>\n",
       "      <td>11/07/2017 23:59:19</td>\n",
       "      <td>GET / HTTP/1.1</td>\n",
       "      <td>0</td>\n",
       "      <td>Tue</td>\n",
       "      <td>1439</td>\n",
       "    </tr>\n",
       "    <tr>\n",
       "      <th>2</th>\n",
       "      <td>10.129.2.1</td>\n",
       "      <td>11/08/2017 00:39:07</td>\n",
       "      <td>GET / HTTP/1.1</td>\n",
       "      <td>1</td>\n",
       "      <td>Wed</td>\n",
       "      <td>39</td>\n",
       "    </tr>\n",
       "    <tr>\n",
       "      <th>3</th>\n",
       "      <td>10.129.2.1</td>\n",
       "      <td>11/08/2017 00:39:07</td>\n",
       "      <td>GET /login.php HTTP/1.1</td>\n",
       "      <td>1</td>\n",
       "      <td>Wed</td>\n",
       "      <td>39</td>\n",
       "    </tr>\n",
       "    <tr>\n",
       "      <th>4</th>\n",
       "      <td>10.129.2.1</td>\n",
       "      <td>11/08/2017 00:39:07</td>\n",
       "      <td>GET /login.php HTTP/1.1</td>\n",
       "      <td>1</td>\n",
       "      <td>Wed</td>\n",
       "      <td>39</td>\n",
       "    </tr>\n",
       "    <tr>\n",
       "      <th>...</th>\n",
       "      <td>...</td>\n",
       "      <td>...</td>\n",
       "      <td>...</td>\n",
       "      <td>...</td>\n",
       "      <td>...</td>\n",
       "      <td>...</td>\n",
       "    </tr>\n",
       "    <tr>\n",
       "      <th>15784</th>\n",
       "      <td>10.130.2.1</td>\n",
       "      <td>03/02/2018 15:47:12</td>\n",
       "      <td>GET /showcode.php?id=309&amp;nm=ham05 HTTP/1.1</td>\n",
       "      <td>56</td>\n",
       "      <td>Fri</td>\n",
       "      <td>947</td>\n",
       "    </tr>\n",
       "    <tr>\n",
       "      <th>15785</th>\n",
       "      <td>10.130.2.1</td>\n",
       "      <td>03/02/2018 15:47:23</td>\n",
       "      <td>GET /allsubmission.php HTTP/1.1</td>\n",
       "      <td>56</td>\n",
       "      <td>Fri</td>\n",
       "      <td>947</td>\n",
       "    </tr>\n",
       "    <tr>\n",
       "      <th>15786</th>\n",
       "      <td>10.130.2.1</td>\n",
       "      <td>03/02/2018 15:47:32</td>\n",
       "      <td>GET /showcode.php?id=309&amp;nm=ham05 HTTP/1.1</td>\n",
       "      <td>56</td>\n",
       "      <td>Fri</td>\n",
       "      <td>947</td>\n",
       "    </tr>\n",
       "    <tr>\n",
       "      <th>15787</th>\n",
       "      <td>10.130.2.1</td>\n",
       "      <td>03/02/2018 15:47:35</td>\n",
       "      <td>GET /allsubmission.php HTTP/1.1</td>\n",
       "      <td>56</td>\n",
       "      <td>Fri</td>\n",
       "      <td>947</td>\n",
       "    </tr>\n",
       "    <tr>\n",
       "      <th>15788</th>\n",
       "      <td>10.130.2.1</td>\n",
       "      <td>03/02/2018 15:47:46</td>\n",
       "      <td>GET /home.php HTTP/1.1</td>\n",
       "      <td>56</td>\n",
       "      <td>Fri</td>\n",
       "      <td>947</td>\n",
       "    </tr>\n",
       "  </tbody>\n",
       "</table>\n",
       "<p>15789 rows × 6 columns</p>\n",
       "</div>"
      ],
      "text/plain": [
       "               id                 time  \\\n",
       "0      10.130.2.1  11/07/2017 23:59:19   \n",
       "1      10.130.2.1  11/07/2017 23:59:19   \n",
       "2      10.129.2.1  11/08/2017 00:39:07   \n",
       "3      10.129.2.1  11/08/2017 00:39:07   \n",
       "4      10.129.2.1  11/08/2017 00:39:07   \n",
       "...           ...                  ...   \n",
       "15784  10.130.2.1  03/02/2018 15:47:12   \n",
       "15785  10.130.2.1  03/02/2018 15:47:23   \n",
       "15786  10.130.2.1  03/02/2018 15:47:32   \n",
       "15787  10.130.2.1  03/02/2018 15:47:35   \n",
       "15788  10.130.2.1  03/02/2018 15:47:46   \n",
       "\n",
       "                                              log  day weekday  timeSerious  \n",
       "0                                  GET / HTTP/1.1    0     Tue         1439  \n",
       "1                                  GET / HTTP/1.1    0     Tue         1439  \n",
       "2                                  GET / HTTP/1.1    1     Wed           39  \n",
       "3                         GET /login.php HTTP/1.1    1     Wed           39  \n",
       "4                         GET /login.php HTTP/1.1    1     Wed           39  \n",
       "...                                           ...  ...     ...          ...  \n",
       "15784  GET /showcode.php?id=309&nm=ham05 HTTP/1.1   56     Fri          947  \n",
       "15785             GET /allsubmission.php HTTP/1.1   56     Fri          947  \n",
       "15786  GET /showcode.php?id=309&nm=ham05 HTTP/1.1   56     Fri          947  \n",
       "15787             GET /allsubmission.php HTTP/1.1   56     Fri          947  \n",
       "15788                      GET /home.php HTTP/1.1   56     Fri          947  \n",
       "\n",
       "[15789 rows x 6 columns]"
      ]
     },
     "execution_count": 17,
     "metadata": {},
     "output_type": "execute_result"
    }
   ],
   "source": [
    "# TimeSerious feature\n",
    "dayArray = data['time'].apply(toDays)\n",
    "uniqueDayArray = np.array(dayArray.unique())\n",
    "asignedArray = np.arange(0,len(uniqueDayArray))\n",
    "for i in range(len(uniqueDayArray)):\n",
    "        dayArray[dayArray == uniqueDayArray[i]] = asignedArray[i]\n",
    "data['day'] = dayArray\n",
    "#-----------------------------------------------------\n",
    "#it takes a date and give us weekDay! like Mon,Thu,Wed\n",
    "data['weekday'] = data ['time'].apply(weekDay) \n",
    "#-----------------------------------------------------\n",
    "data['timeSerious'] = data ['time'].apply(toTimeSpace)\n",
    "#-----------------------------------------------------\n",
    "data"
   ]
  },
  {
   "cell_type": "code",
   "execution_count": 18,
   "metadata": {},
   "outputs": [
    {
     "data": {
      "text/plain": [
       "0"
      ]
     },
     "execution_count": 18,
     "metadata": {},
     "output_type": "execute_result"
    }
   ],
   "source": [
    "data['timeSerious'].min()"
   ]
  },
  {
   "cell_type": "code",
   "execution_count": 19,
   "metadata": {},
   "outputs": [
    {
     "data": {
      "text/plain": [
       "1439"
      ]
     },
     "execution_count": 19,
     "metadata": {},
     "output_type": "execute_result"
    }
   ],
   "source": [
    "data['timeSerious'].max() #1439 minuts is about 23:59 past from 00:00"
   ]
  },
  {
   "cell_type": "code",
   "execution_count": 20,
   "metadata": {},
   "outputs": [],
   "source": [
    "# WorkToNum feature\n",
    "allWorks = np.array(data['log'].unique())\n",
    "#-----------------------------------------------------\n",
    "rangeVector = np.arange(1,len(allWorks)+1)\n",
    "#-----------------------------------------------------\n",
    "dictionary = {}\n",
    "for i in range(len(allWorks)):\n",
    "    dictionary[allWorks[i]] = rangeVector[i]\n",
    "#-----------------------------------------------------\n",
    "def workToNum(string):\n",
    "    return dictionary[string]\n",
    "#-----------------------------------------------------\n",
    "data['workToNum'] = data['log'].apply(workToNum)\n",
    "#-----------------------------------------------------\n",
    "data.drop('log', axis='columns',inplace=True)\n",
    "data.drop('time', axis='columns',inplace=True)"
   ]
  },
  {
   "cell_type": "code",
   "execution_count": 21,
   "metadata": {},
   "outputs": [],
   "source": [
    "# WeekToNum feature\n",
    "allWeeks = np.array(data['weekday'].unique())\n",
    "#-----------------------------------------------------\n",
    "rangeVector = np.arange(1,len(allWeeks)+1)\n",
    "#-----------------------------------------------------\n",
    "WeeksDictionary = {}\n",
    "for i in range(len(allWeeks)):\n",
    "    WeeksDictionary[allWeeks[i]] = rangeVector[i]\n",
    "#-----------------------------------------------------\n",
    "def weekToNum(string):\n",
    "    return WeeksDictionary[string]\n",
    "#-----------------------------------------------------\n",
    "data['weekToNum'] = data['weekday'].apply(weekToNum)\n",
    "data.drop('weekday', axis='columns',inplace=True)"
   ]
  },
  {
   "cell_type": "code",
   "execution_count": 22,
   "metadata": {},
   "outputs": [
    {
     "data": {
      "text/html": [
       "<div>\n",
       "<style scoped>\n",
       "    .dataframe tbody tr th:only-of-type {\n",
       "        vertical-align: middle;\n",
       "    }\n",
       "\n",
       "    .dataframe tbody tr th {\n",
       "        vertical-align: top;\n",
       "    }\n",
       "\n",
       "    .dataframe thead th {\n",
       "        text-align: right;\n",
       "    }\n",
       "</style>\n",
       "<table border=\"1\" class=\"dataframe\">\n",
       "  <thead>\n",
       "    <tr style=\"text-align: right;\">\n",
       "      <th></th>\n",
       "      <th>id</th>\n",
       "      <th>day</th>\n",
       "      <th>timeSerious</th>\n",
       "      <th>workToNum</th>\n",
       "      <th>weekToNum</th>\n",
       "    </tr>\n",
       "  </thead>\n",
       "  <tbody>\n",
       "    <tr>\n",
       "      <th>9351</th>\n",
       "      <td>10.130.2.1</td>\n",
       "      <td>40</td>\n",
       "      <td>1217</td>\n",
       "      <td>7</td>\n",
       "      <td>7</td>\n",
       "    </tr>\n",
       "    <tr>\n",
       "      <th>9353</th>\n",
       "      <td>10.130.2.1</td>\n",
       "      <td>40</td>\n",
       "      <td>1217</td>\n",
       "      <td>2</td>\n",
       "      <td>7</td>\n",
       "    </tr>\n",
       "    <tr>\n",
       "      <th>9354</th>\n",
       "      <td>10.130.2.1</td>\n",
       "      <td>40</td>\n",
       "      <td>1217</td>\n",
       "      <td>10</td>\n",
       "      <td>7</td>\n",
       "    </tr>\n",
       "    <tr>\n",
       "      <th>9363</th>\n",
       "      <td>10.130.2.1</td>\n",
       "      <td>40</td>\n",
       "      <td>1217</td>\n",
       "      <td>7</td>\n",
       "      <td>7</td>\n",
       "    </tr>\n",
       "    <tr>\n",
       "      <th>9364</th>\n",
       "      <td>10.130.2.1</td>\n",
       "      <td>40</td>\n",
       "      <td>1217</td>\n",
       "      <td>7</td>\n",
       "      <td>7</td>\n",
       "    </tr>\n",
       "    <tr>\n",
       "      <th>...</th>\n",
       "      <td>...</td>\n",
       "      <td>...</td>\n",
       "      <td>...</td>\n",
       "      <td>...</td>\n",
       "      <td>...</td>\n",
       "    </tr>\n",
       "    <tr>\n",
       "      <th>14425</th>\n",
       "      <td>10.130.2.1</td>\n",
       "      <td>40</td>\n",
       "      <td>1256</td>\n",
       "      <td>2</td>\n",
       "      <td>7</td>\n",
       "    </tr>\n",
       "    <tr>\n",
       "      <th>14434</th>\n",
       "      <td>10.130.2.1</td>\n",
       "      <td>40</td>\n",
       "      <td>1256</td>\n",
       "      <td>7</td>\n",
       "      <td>7</td>\n",
       "    </tr>\n",
       "    <tr>\n",
       "      <th>14435</th>\n",
       "      <td>10.130.2.1</td>\n",
       "      <td>40</td>\n",
       "      <td>1256</td>\n",
       "      <td>2</td>\n",
       "      <td>7</td>\n",
       "    </tr>\n",
       "    <tr>\n",
       "      <th>14436</th>\n",
       "      <td>10.130.2.1</td>\n",
       "      <td>40</td>\n",
       "      <td>1256</td>\n",
       "      <td>7</td>\n",
       "      <td>7</td>\n",
       "    </tr>\n",
       "    <tr>\n",
       "      <th>14437</th>\n",
       "      <td>10.130.2.1</td>\n",
       "      <td>40</td>\n",
       "      <td>1256</td>\n",
       "      <td>2</td>\n",
       "      <td>7</td>\n",
       "    </tr>\n",
       "  </tbody>\n",
       "</table>\n",
       "<p>1626 rows × 5 columns</p>\n",
       "</div>"
      ],
      "text/plain": [
       "               id  day  timeSerious  workToNum  weekToNum\n",
       "9351   10.130.2.1   40         1217          7          7\n",
       "9353   10.130.2.1   40         1217          2          7\n",
       "9354   10.130.2.1   40         1217         10          7\n",
       "9363   10.130.2.1   40         1217          7          7\n",
       "9364   10.130.2.1   40         1217          7          7\n",
       "...           ...  ...          ...        ...        ...\n",
       "14425  10.130.2.1   40         1256          2          7\n",
       "14434  10.130.2.1   40         1256          7          7\n",
       "14435  10.130.2.1   40         1256          2          7\n",
       "14436  10.130.2.1   40         1256          7          7\n",
       "14437  10.130.2.1   40         1256          2          7\n",
       "\n",
       "[1626 rows x 5 columns]"
      ]
     },
     "execution_count": 22,
     "metadata": {},
     "output_type": "execute_result"
    }
   ],
   "source": [
    "d = data.loc[data['id']=='10.130.2.1']\n",
    "d.loc[d['day'] == 40]"
   ]
  },
  {
   "attachments": {},
   "cell_type": "markdown",
   "metadata": {},
   "source": [
    "# Data analyst tools make data even more appropriate"
   ]
  },
  {
   "cell_type": "code",
   "execution_count": 23,
   "metadata": {},
   "outputs": [],
   "source": [
    "def plotTimeLine(id = '10.130.2.1' , day= 21):\n",
    "    d = data.loc[data['id']==id]\n",
    "    arr = d.loc[d['day'] == day]['timeSerious'].to_numpy()\n",
    "    unique, counts = np.unique(arr, return_counts=True)\n",
    "    mass = np.arange(0,1440)\n",
    "    lineSpace = np.zeros((1440))\n",
    "    lineSpace[unique] = counts\n",
    "    fig = plt.figure(figsize = (25, 10))\n",
    "    # creating the bar plot\n",
    "    plt.bar(mass, lineSpace, color ='red',width = 0.4)"
   ]
  },
  {
   "cell_type": "code",
   "execution_count": 24,
   "metadata": {},
   "outputs": [
    {
     "data": {
      "text/html": [
       "<div>\n",
       "<style scoped>\n",
       "    .dataframe tbody tr th:only-of-type {\n",
       "        vertical-align: middle;\n",
       "    }\n",
       "\n",
       "    .dataframe tbody tr th {\n",
       "        vertical-align: top;\n",
       "    }\n",
       "\n",
       "    .dataframe thead th {\n",
       "        text-align: right;\n",
       "    }\n",
       "</style>\n",
       "<table border=\"1\" class=\"dataframe\">\n",
       "  <thead>\n",
       "    <tr style=\"text-align: right;\">\n",
       "      <th></th>\n",
       "      <th>id</th>\n",
       "      <th>day</th>\n",
       "      <th>timeSerious</th>\n",
       "      <th>workToNum</th>\n",
       "      <th>weekToNum</th>\n",
       "    </tr>\n",
       "  </thead>\n",
       "  <tbody>\n",
       "    <tr>\n",
       "      <th>0</th>\n",
       "      <td>10.130.2.1</td>\n",
       "      <td>0</td>\n",
       "      <td>1439</td>\n",
       "      <td>1</td>\n",
       "      <td>1</td>\n",
       "    </tr>\n",
       "    <tr>\n",
       "      <th>1</th>\n",
       "      <td>10.130.2.1</td>\n",
       "      <td>0</td>\n",
       "      <td>1439</td>\n",
       "      <td>1</td>\n",
       "      <td>1</td>\n",
       "    </tr>\n",
       "    <tr>\n",
       "      <th>2</th>\n",
       "      <td>10.129.2.1</td>\n",
       "      <td>1</td>\n",
       "      <td>39</td>\n",
       "      <td>1</td>\n",
       "      <td>2</td>\n",
       "    </tr>\n",
       "    <tr>\n",
       "      <th>3</th>\n",
       "      <td>10.129.2.1</td>\n",
       "      <td>1</td>\n",
       "      <td>39</td>\n",
       "      <td>2</td>\n",
       "      <td>2</td>\n",
       "    </tr>\n",
       "    <tr>\n",
       "      <th>4</th>\n",
       "      <td>10.129.2.1</td>\n",
       "      <td>1</td>\n",
       "      <td>39</td>\n",
       "      <td>2</td>\n",
       "      <td>2</td>\n",
       "    </tr>\n",
       "    <tr>\n",
       "      <th>...</th>\n",
       "      <td>...</td>\n",
       "      <td>...</td>\n",
       "      <td>...</td>\n",
       "      <td>...</td>\n",
       "      <td>...</td>\n",
       "    </tr>\n",
       "    <tr>\n",
       "      <th>15784</th>\n",
       "      <td>10.130.2.1</td>\n",
       "      <td>56</td>\n",
       "      <td>947</td>\n",
       "      <td>292</td>\n",
       "      <td>4</td>\n",
       "    </tr>\n",
       "    <tr>\n",
       "      <th>15785</th>\n",
       "      <td>10.130.2.1</td>\n",
       "      <td>56</td>\n",
       "      <td>947</td>\n",
       "      <td>25</td>\n",
       "      <td>4</td>\n",
       "    </tr>\n",
       "    <tr>\n",
       "      <th>15786</th>\n",
       "      <td>10.130.2.1</td>\n",
       "      <td>56</td>\n",
       "      <td>947</td>\n",
       "      <td>292</td>\n",
       "      <td>4</td>\n",
       "    </tr>\n",
       "    <tr>\n",
       "      <th>15787</th>\n",
       "      <td>10.130.2.1</td>\n",
       "      <td>56</td>\n",
       "      <td>947</td>\n",
       "      <td>25</td>\n",
       "      <td>4</td>\n",
       "    </tr>\n",
       "    <tr>\n",
       "      <th>15788</th>\n",
       "      <td>10.130.2.1</td>\n",
       "      <td>56</td>\n",
       "      <td>947</td>\n",
       "      <td>7</td>\n",
       "      <td>4</td>\n",
       "    </tr>\n",
       "  </tbody>\n",
       "</table>\n",
       "<p>15789 rows × 5 columns</p>\n",
       "</div>"
      ],
      "text/plain": [
       "               id  day  timeSerious  workToNum  weekToNum\n",
       "0      10.130.2.1    0         1439          1          1\n",
       "1      10.130.2.1    0         1439          1          1\n",
       "2      10.129.2.1    1           39          1          2\n",
       "3      10.129.2.1    1           39          2          2\n",
       "4      10.129.2.1    1           39          2          2\n",
       "...           ...  ...          ...        ...        ...\n",
       "15784  10.130.2.1   56          947        292          4\n",
       "15785  10.130.2.1   56          947         25          4\n",
       "15786  10.130.2.1   56          947        292          4\n",
       "15787  10.130.2.1   56          947         25          4\n",
       "15788  10.130.2.1   56          947          7          4\n",
       "\n",
       "[15789 rows x 5 columns]"
      ]
     },
     "execution_count": 24,
     "metadata": {},
     "output_type": "execute_result"
    }
   ],
   "source": [
    "data"
   ]
  },
  {
   "cell_type": "code",
   "execution_count": 25,
   "metadata": {},
   "outputs": [
    {
     "data": {
      "text/plain": [
       "Series([], Name: day, dtype: int64)"
      ]
     },
     "execution_count": 25,
     "metadata": {},
     "output_type": "execute_result"
    }
   ],
   "source": [
    "data.loc[data['id']=='10.131.1.1']['day'].value_counts()"
   ]
  },
  {
   "cell_type": "code",
   "execution_count": 26,
   "metadata": {},
   "outputs": [],
   "source": [
    "# plotTimeLine(id = '10.131.2.1',day= 40)"
   ]
  },
  {
   "cell_type": "code",
   "execution_count": 27,
   "metadata": {},
   "outputs": [
    {
     "data": {
      "image/png": "[encoded data removed]",
      "text/plain": [
       "<Figure size 1800x720 with 1 Axes>"
      ]
     },
     "metadata": {
      "needs_background": "light"
     },
     "output_type": "display_data"
    }
   ],
   "source": [
    "plotTimeLine(id = '10.131.2.1',day= 21)"
   ]
  },
  {
   "cell_type": "code",
   "execution_count": 28,
   "metadata": {},
   "outputs": [],
   "source": [
    "# it seems that you should delete days 40th and 21th for id :'10.130.2.1' !!\n",
    "data.drop(data.loc[(data['id']=='10.130.2.1')&(data['day']==40)].index,inplace=True)\n",
    "data.drop(data.loc[(data['id']=='10.130.2.1')&(data['day']==21)].index,inplace=True)\n",
    "# it seems that you should delete day 21th for id :'10.129.2.1' !!\n",
    "data.drop(data.loc[(data['id']=='10.129.2.1')&(data['day']==21)].index,inplace=True)\n",
    "# it seems that you should delete days 40th and 21th for id :'10.128.2.1' !!\n",
    "data.drop(data.loc[(data['id']=='10.128.2.1')&(data['day']==40)].index,inplace=True)\n",
    "data.drop(data.loc[(data['id']=='10.128.2.1')&(data['day']==21)].index,inplace=True)\n",
    "# it seems that you should delete days 40th and 21th for id :'10.128.2.1' !!\n",
    "data.drop(data.loc[(data['id']=='10.128.2.1')&(data['day']==40)].index,inplace=True)\n",
    "data.drop(data.loc[(data['id']=='10.128.2.1')&(data['day']==21)].index,inplace=True)\n",
    "# it seems that you should delete days 40th and 21th for id :'10.128.2.1' !!\n",
    "data.drop(data.loc[(data['id']=='10.131.0.1')&(data['day']==40)].index,inplace=True)\n",
    "data.drop(data.loc[(data['id']=='10.131.0.1')&(data['day']==21)].index,inplace=True)\n",
    "# it seems that you should delete day 21th for id :'10.129.2.1' !!\n",
    "data.drop(data.loc[(data['id']=='10.131.2.1')&(data['day']==21)].index,inplace=True)"
   ]
  },
  {
   "attachments": {},
   "cell_type": "markdown",
   "metadata": {},
   "source": [
    "## Pandas Data Frame to numpy matrix for training data\n",
    "that's achive four parameters: <br>\n",
    "1 - number of all persons (unique ids) <br>\n",
    "2 - number of data's (diffrent days) of each persons <br>\n",
    "3 - number of all possible works (len of workToVec) <br>\n",
    "4 - maximum of number of works in all days <br>"
   ]
  },
  {
   "attachments": {},
   "cell_type": "markdown",
   "metadata": {},
   "source": [
    "## Padding functions\n",
    "make a padding to np arrays for instance: <br>\n",
    "maxlen = 4 <br>\n",
    "array = [2,3] <br>\n",
    "new array = [2,3,0,0] <br>"
   ]
  },
  {
   "cell_type": "code",
   "execution_count": 29,
   "metadata": {},
   "outputs": [],
   "source": [
    "def vectorPadding(array,maxlen):\n",
    "    newArray = np.zeros((1,maxlen))\n",
    "    newArray = newArray[0]\n",
    "    newArray[0:len(array)] = array\n",
    "    newArray = newArray.astype(int)\n",
    "    return newArray"
   ]
  },
  {
   "attachments": {},
   "cell_type": "markdown",
   "metadata": {},
   "source": [
    "## Onehot functions"
   ]
  },
  {
   "cell_type": "code",
   "execution_count": 30,
   "metadata": {},
   "outputs": [],
   "source": [
    "def vecToOneHot(vec,max):\n",
    "    oh = np.zeros((vec.size, max))\n",
    "    oh[np.arange(vec.size), vec] = 1\n",
    "    return oh"
   ]
  },
  {
   "cell_type": "code",
   "execution_count": 31,
   "metadata": {},
   "outputs": [],
   "source": [
    "def matToOneHot(vec,type = 'work'):\n",
    "    numberOfVecs = vec.shape[0] #number of vectors\n",
    "    lenOfVecs = vec.shape[1] #len of each vector\n",
    "     # len of onehot matrix\n",
    "    if type =='week':\n",
    "        lenOfOh = 8 # correspond to 7 days of week + 1 for null days\n",
    "    else :  \n",
    "        lenOfOh = vec.max() + 1  \n",
    "    #---------------------------------------------\n",
    "    mat = np.zeros((lenOfVecs,lenOfOh)) # matrix !\n",
    "    #---------------------------------------------\n",
    "    for n in range(numberOfVecs):\n",
    "        mat = np.concatenate((mat,vecToOneHot(vec[n] ,lenOfOh)))\n",
    "        #-----------------------------------------\n",
    "    mat = mat[lenOfVecs:]\n",
    "    mat = mat.reshape(numberOfVecs,lenOfVecs,lenOfOh)\n",
    "    return mat"
   ]
  },
  {
   "attachments": {},
   "cell_type": "markdown",
   "metadata": {},
   "source": [
    "## Put all together and Saving Data to a file"
   ]
  },
  {
   "cell_type": "code",
   "execution_count": 32,
   "metadata": {},
   "outputs": [
    {
     "name": "stdout",
     "output_type": "stream",
     "text": [
      "RnnWorkDataOH.shape => (55, 95, 293)\n",
      "RnnWeekDataOH.shape => (55, 95, 8)\n",
      "saved as RnnWorkData_id:10.130.2.1.npy\n",
      "saved as RnnWeekDataOH_id:10.130.2.1.npy\n",
      "=======================================\n",
      "RnnWorkDataOH.shape => (23, 124, 244)\n",
      "RnnWeekDataOH.shape => (23, 124, 8)\n",
      "saved as RnnWorkData_id:10.129.2.1.npy\n",
      "saved as RnnWeekDataOH_id:10.129.2.1.npy\n",
      "=======================================\n",
      "RnnWorkDataOH.shape => (54, 106, 292)\n",
      "RnnWeekDataOH.shape => (54, 106, 8)\n",
      "saved as RnnWorkData_id:10.128.2.1.npy\n",
      "saved as RnnWeekDataOH_id:10.128.2.1.npy\n",
      "=======================================\n",
      "RnnWorkDataOH.shape => (54, 117, 289)\n",
      "RnnWeekDataOH.shape => (54, 117, 8)\n",
      "saved as RnnWorkData_id:10.131.0.1.npy\n",
      "saved as RnnWeekDataOH_id:10.131.0.1.npy\n",
      "=======================================\n",
      "RnnWorkDataOH.shape => (23, 161, 243)\n",
      "RnnWeekDataOH.shape => (23, 161, 8)\n",
      "saved as RnnWorkData_id:10.131.2.1.npy\n",
      "saved as RnnWeekDataOH_id:10.131.2.1.npy\n",
      "=======================================\n"
     ]
    }
   ],
   "source": [
    "Persons = data['id'].unique() # array of all unique ids in other hand array of all diffrent persons\n",
    "lenPersons = len(data['id'].unique()) # number of all unique ids in other hand number of all diffrent persons\n",
    "workToNumLen = max(data['workToNum']) #number of all possible works\n",
    "#------------------------------------------------------------------\n",
    "for idx in range(lenPersons):\n",
    "    currentId = Persons[idx]\n",
    "    numOfDays = len(data.loc[data['id'] == currentId]['day'].unique()) # number of days that one person have in other hands #of All training data for one person\n",
    "    days = data.loc[data['id'] == currentId]['day'].unique()\n",
    "    inputSize = max(data.loc[data['id'] == currentId]['day'].value_counts())#inputSize is size of architecture of # of RNN blocks (maximum of number of works in all days)\n",
    "    #--------------------------------------------------------------\n",
    "    RnnWorkData = np.zeros((numOfDays,inputSize))\n",
    "    RnnWeekData = np.zeros((numOfDays,inputSize))\n",
    "    #--------------------------------------------------------------\n",
    "    for i in range(len(days)):\n",
    "        temp = data.loc[(data['id'] == currentId) & (data['day'] == days[i])] \n",
    "        workToNumVector = temp['workToNum'].to_numpy()\n",
    "        workToNumVector = vectorPadding(workToNumVector,inputSize)\n",
    "        weekToNumVector = temp['weekToNum'].to_numpy()\n",
    "        weekToNumVector  = vectorPadding(weekToNumVector,inputSize)\n",
    "        #----------------------------------------------------------\n",
    "        RnnWorkData[i,:] = workToNumVector\n",
    "        RnnWeekData[i,:] = weekToNumVector\n",
    "        #print(workToNumVector)            # do not Delete!!\n",
    "    #--------------------------------------------------------------\n",
    "    RnnWorkDataOH = matToOneHot(RnnWorkData.astype(int)) # transforming scalar numbers to onehot\n",
    "    RnnWeekDataOH = matToOneHot(RnnWeekData.astype(int),type='week') # transforming scalar numbers to onehot\n",
    "    #--------------------------------------------------------------\n",
    "    print('RnnWorkDataOH.shape => ' +str(RnnWorkDataOH.shape))\n",
    "    print('RnnWeekDataOH.shape => ' +str(RnnWeekDataOH.shape))\n",
    "    #--------------------------------------------------------------\n",
    "    #print('RnnWorkData =>')               # do not Delete!!\n",
    "    #print(RnnWorkData.astype(int))        # do not Delete!!\n",
    "    #--------------------------------------------------------------\n",
    "    #print('matToOneHot(RnnWorkData) =>')  # do not Delete!!\n",
    "    #print(RnnWorkDataOH )                 # do not Delete!!\n",
    "    #--------------------------------------------------------------\n",
    "    #print('RnnWeekData =>')               # do not Delete!! \n",
    "    #print(RnnWeekData.astype(int))        # do not Delete!!\n",
    "    #--------------------------------------------------------------\n",
    "    #print('matToOneHot(RnnWeekData) =>')  # do not Delete!!\n",
    "    #print(RnnWeekDataOH )                 # do not Delete!!\n",
    "    #--------------------------------------------------------------\n",
    "    with open('data/no_time_base/RnnWorkDataOH_id:'+str(currentId)+'.npy', 'wb') as f:\n",
    "        np.save(f,RnnWorkDataOH)\n",
    "    print('saved as '+'RnnWorkData_id:'+str(currentId)+'.npy')    \n",
    "    with open('data/no_time_base/RnnWeekDataOH_id:'+str(currentId)+'.npy', 'wb') as f:\n",
    "        np.save(f,RnnWeekDataOH)\n",
    "    print('saved as '+'RnnWeekDataOH_id:'+str(currentId)+'.npy')   \n",
    "    print('=======================================')"
   ]
  },
  {
   "attachments": {},
   "cell_type": "markdown",
   "metadata": {},
   "source": [
    "## Loading Rnn data"
   ]
  },
  {
   "cell_type": "code",
   "execution_count": 33,
   "metadata": {},
   "outputs": [],
   "source": [
    "PersonId = '10.130.2.1'\n",
    "with open('data/no_time_base/RnnWorkDataOH_id:'+str(PersonId)+'.npy', 'rb') as f:\n",
    "    RnnWorkDataOH = np.load(f)\n",
    "    X = RnnWorkDataOH\n",
    "with open('data/no_time_base/RnnWeekDataOH_id:'+str(PersonId)+'.npy', 'rb') as f:\n",
    "    RnnWeekDataOH = np.load(f)\n",
    "#print('RnnWorkDataOH:')    \n",
    "#print(RnnWorkDataOH)\n",
    "#print('RnnWeekDataOH:')\n",
    "#print(RnnWeekDataOH)\n",
    "# we decided to use no_time_base data ro id:# we decided to use no_time_base data ro id:10.130.2.1\n"
   ]
  },
  {
   "attachments": {},
   "cell_type": "markdown",
   "metadata": {},
   "source": [
    "# time base data for TRM"
   ]
  },
  {
   "attachments": {},
   "cell_type": "markdown",
   "metadata": {},
   "source": [
    "In this section, in addition to the order of doing things, the time of doing things is also important\n",
    "In such a way that any work is not recommended immediately after the previous work and waits until its time comes"
   ]
  },
  {
   "cell_type": "code",
   "execution_count": 34,
   "metadata": {},
   "outputs": [
    {
     "data": {
      "text/html": [
       "<div>\n",
       "<style scoped>\n",
       "    .dataframe tbody tr th:only-of-type {\n",
       "        vertical-align: middle;\n",
       "    }\n",
       "\n",
       "    .dataframe tbody tr th {\n",
       "        vertical-align: top;\n",
       "    }\n",
       "\n",
       "    .dataframe thead th {\n",
       "        text-align: right;\n",
       "    }\n",
       "</style>\n",
       "<table border=\"1\" class=\"dataframe\">\n",
       "  <thead>\n",
       "    <tr style=\"text-align: right;\">\n",
       "      <th></th>\n",
       "      <th>id</th>\n",
       "      <th>day</th>\n",
       "      <th>timeSerious</th>\n",
       "      <th>workToNum</th>\n",
       "      <th>weekToNum</th>\n",
       "    </tr>\n",
       "  </thead>\n",
       "  <tbody>\n",
       "    <tr>\n",
       "      <th>0</th>\n",
       "      <td>10.130.2.1</td>\n",
       "      <td>0</td>\n",
       "      <td>1439</td>\n",
       "      <td>1</td>\n",
       "      <td>1</td>\n",
       "    </tr>\n",
       "    <tr>\n",
       "      <th>1</th>\n",
       "      <td>10.130.2.1</td>\n",
       "      <td>0</td>\n",
       "      <td>1439</td>\n",
       "      <td>1</td>\n",
       "      <td>1</td>\n",
       "    </tr>\n",
       "    <tr>\n",
       "      <th>2</th>\n",
       "      <td>10.129.2.1</td>\n",
       "      <td>1</td>\n",
       "      <td>39</td>\n",
       "      <td>1</td>\n",
       "      <td>2</td>\n",
       "    </tr>\n",
       "    <tr>\n",
       "      <th>3</th>\n",
       "      <td>10.129.2.1</td>\n",
       "      <td>1</td>\n",
       "      <td>39</td>\n",
       "      <td>2</td>\n",
       "      <td>2</td>\n",
       "    </tr>\n",
       "    <tr>\n",
       "      <th>4</th>\n",
       "      <td>10.129.2.1</td>\n",
       "      <td>1</td>\n",
       "      <td>39</td>\n",
       "      <td>2</td>\n",
       "      <td>2</td>\n",
       "    </tr>\n",
       "    <tr>\n",
       "      <th>...</th>\n",
       "      <td>...</td>\n",
       "      <td>...</td>\n",
       "      <td>...</td>\n",
       "      <td>...</td>\n",
       "      <td>...</td>\n",
       "    </tr>\n",
       "    <tr>\n",
       "      <th>15784</th>\n",
       "      <td>10.130.2.1</td>\n",
       "      <td>56</td>\n",
       "      <td>947</td>\n",
       "      <td>292</td>\n",
       "      <td>4</td>\n",
       "    </tr>\n",
       "    <tr>\n",
       "      <th>15785</th>\n",
       "      <td>10.130.2.1</td>\n",
       "      <td>56</td>\n",
       "      <td>947</td>\n",
       "      <td>25</td>\n",
       "      <td>4</td>\n",
       "    </tr>\n",
       "    <tr>\n",
       "      <th>15786</th>\n",
       "      <td>10.130.2.1</td>\n",
       "      <td>56</td>\n",
       "      <td>947</td>\n",
       "      <td>292</td>\n",
       "      <td>4</td>\n",
       "    </tr>\n",
       "    <tr>\n",
       "      <th>15787</th>\n",
       "      <td>10.130.2.1</td>\n",
       "      <td>56</td>\n",
       "      <td>947</td>\n",
       "      <td>25</td>\n",
       "      <td>4</td>\n",
       "    </tr>\n",
       "    <tr>\n",
       "      <th>15788</th>\n",
       "      <td>10.130.2.1</td>\n",
       "      <td>56</td>\n",
       "      <td>947</td>\n",
       "      <td>7</td>\n",
       "      <td>4</td>\n",
       "    </tr>\n",
       "  </tbody>\n",
       "</table>\n",
       "<p>7706 rows × 5 columns</p>\n",
       "</div>"
      ],
      "text/plain": [
       "               id  day  timeSerious  workToNum  weekToNum\n",
       "0      10.130.2.1    0         1439          1          1\n",
       "1      10.130.2.1    0         1439          1          1\n",
       "2      10.129.2.1    1           39          1          2\n",
       "3      10.129.2.1    1           39          2          2\n",
       "4      10.129.2.1    1           39          2          2\n",
       "...           ...  ...          ...        ...        ...\n",
       "15784  10.130.2.1   56          947        292          4\n",
       "15785  10.130.2.1   56          947         25          4\n",
       "15786  10.130.2.1   56          947        292          4\n",
       "15787  10.130.2.1   56          947         25          4\n",
       "15788  10.130.2.1   56          947          7          4\n",
       "\n",
       "[7706 rows x 5 columns]"
      ]
     },
     "execution_count": 34,
     "metadata": {},
     "output_type": "execute_result"
    }
   ],
   "source": [
    "data"
   ]
  },
  {
   "cell_type": "code",
   "execution_count": 35,
   "metadata": {},
   "outputs": [
    {
     "data": {
      "image/png": "[encoded data removed]",
      "text/plain": [
       "<Figure size 1800x720 with 1 Axes>"
      ]
     },
     "metadata": {
      "needs_background": "light"
     },
     "output_type": "display_data"
    }
   ],
   "source": [
    "plotData = data['timeSerious'].value_counts()\n",
    "fig = plt.figure(figsize=(25, 10))\n",
    "xPlot = np.array(plotData.index)\n",
    "yPlot = np.array(plotData.values)\n",
    "plt.bar(xPlot,yPlot)\n",
    "plt.show()"
   ]
  },
  {
   "cell_type": "code",
   "execution_count": 36,
   "metadata": {},
   "outputs": [
    {
     "name": "stdout",
     "output_type": "stream",
     "text": [
      "RnnWorkDataOH.shape => (55, 1440, 290)\n",
      "RnnWeekDataOH.shape => (55, 1440, 8)\n",
      "saved as RnnWorkData_id:10.130.2.1.npy\n",
      "saved as RnnWeekDataOH_id:10.130.2.1.npy\n",
      "==================================\n",
      "RnnWorkDataOH.shape => (23, 1440, 244)\n",
      "RnnWeekDataOH.shape => (23, 1440, 8)\n",
      "saved as RnnWorkData_id:10.129.2.1.npy\n",
      "saved as RnnWeekDataOH_id:10.129.2.1.npy\n",
      "==================================\n",
      "RnnWorkDataOH.shape => (54, 1440, 291)\n",
      "RnnWeekDataOH.shape => (54, 1440, 8)\n",
      "saved as RnnWorkData_id:10.128.2.1.npy\n",
      "saved as RnnWeekDataOH_id:10.128.2.1.npy\n",
      "==================================\n",
      "RnnWorkDataOH.shape => (54, 1440, 288)\n",
      "RnnWeekDataOH.shape => (54, 1440, 8)\n",
      "saved as RnnWorkData_id:10.131.0.1.npy\n",
      "saved as RnnWeekDataOH_id:10.131.0.1.npy\n",
      "==================================\n",
      "RnnWorkDataOH.shape => (23, 1440, 234)\n",
      "RnnWeekDataOH.shape => (23, 1440, 8)\n",
      "saved as RnnWorkData_id:10.131.2.1.npy\n",
      "saved as RnnWeekDataOH_id:10.131.2.1.npy\n",
      "==================================\n"
     ]
    }
   ],
   "source": [
    "rnnSize = 541 #  = 9 * 60 + 1 , 540 minutes work for everyday \n",
    "rnnSize = 1440 \n",
    "Persons = data['id'].unique() # array of all unique ids in other hand array of all diffrent persons\n",
    "lenPersons = len(data['id'].unique()) # number of all unique ids in other hand number of all diffrent persons\n",
    "#------------------------------------------------------------------\n",
    "for idx in range(lenPersons):\n",
    "   currentId = Persons[idx]\n",
    "   numOfDays = len(data.loc[data['id'] == currentId]['day'].unique()) # #of days that one person have in other hands #of All training data for one person\n",
    "   days = data.loc[data['id'] == currentId]['day'].unique()\n",
    "   RnnWorkData = np.zeros((numOfDays,rnnSize),dtype=(int))\n",
    "   RnnWeekData = np.zeros((numOfDays,rnnSize),dtype=(int))\n",
    "   for i in range(len(days)):\n",
    "         #Works : \n",
    "         oneDayRnnWorkData = np.zeros((rnnSize),dtype=int)\n",
    "         temp = data.loc[(data['id'] == currentId) & (data['day'] == days[i])] \n",
    "         workIdx = temp[['timeSerious','workToNum']].to_numpy().T[0]\n",
    "         workValue = temp[['timeSerious','workToNum']].to_numpy().T[1]\n",
    "         oneDayRnnWorkData[workIdx] = workValue\n",
    "         #Weeks :\n",
    "         oneDayRnnWeekData = np.zeros((rnnSize),dtype=int)\n",
    "         temp = data.loc[(data['id'] == currentId) & (data['day'] == days[i])] \n",
    "         weekIdx = temp[['timeSerious','weekToNum']].to_numpy().T[0]\n",
    "         weekValue = temp[['timeSerious','weekToNum']].to_numpy().T[1]\n",
    "         oneDayRnnWeekData[weekIdx] = weekValue\n",
    "         #------------------------------------------------------------------\n",
    "         #now adding every single days to RnnWorkData\n",
    "         #Works :\n",
    "         RnnWorkData[i,:] = oneDayRnnWorkData\n",
    "         #Weeks :\n",
    "         RnnWeekData[i,:] = oneDayRnnWeekData\n",
    "         #------------------------------------------------------------------\n",
    "         #Works :\n",
    "         #print(workIdx)                                  # do not Delete!!\n",
    "         #print(workValue)                                # do not Delete!!\n",
    "         #print(oneDayRnnWorkData)                        # do not Delete!!\n",
    "         #Weeks :\n",
    "         #print(weekIdx)                                  # do not Delete!!\n",
    "         #print(weekValue)                                # do not Delete!!\n",
    "         #print(oneDayRnnWeekData)                        # do not Delete!!\n",
    "         #------------------------------------------------------------------\n",
    "   #now make them onehot from scaler      \n",
    "   #Works :        \n",
    "   RnnWorkDataOH = matToOneHot(RnnWorkData)\n",
    "   #Weeks :\n",
    "   RnnWeekDataOH = matToOneHot(RnnWeekData,type='week')\n",
    "   #--------------------------------------------------------------------------\n",
    "   #Work :\n",
    "   print('RnnWorkDataOH.shape => '+str(RnnWorkDataOH.shape))    \n",
    "   #print(RnnWorkDataOH[1][1])                              # do not Delete!!\n",
    "   #Week :\n",
    "   print('RnnWeekDataOH.shape => '+str(RnnWeekDataOH.shape))    \n",
    "   #print(RnnWeekDataOH[1][2])                              # do not Delete!!\n",
    "   #--------------------------------------------------------------------------\n",
    "   with open('data/time_base/RnnWorkDataOH_id:'+str(currentId)+'.npy', 'wb') as f:\n",
    "      np.save(f,RnnWorkDataOH)\n",
    "   print('saved as '+'RnnWorkData_id:'+str(currentId)+'.npy')    \n",
    "   with open('data/time_base/RnnWeekDataOH_id:'+str(currentId)+'.npy', 'wb') as f:\n",
    "      np.save(f,RnnWeekDataOH)\n",
    "   print('saved as '+'RnnWeekDataOH_id:'+str(currentId)+'.npy') \n",
    "   print('==================================')"
   ]
  },
  {
   "attachments": {},
   "cell_type": "markdown",
   "metadata": {},
   "source": [
    "## Load Rnn Data\n",
    "Load data from saved , generated data"
   ]
  },
  {
   "cell_type": "code",
   "execution_count": 37,
   "metadata": {},
   "outputs": [
    {
     "name": "stdout",
     "output_type": "stream",
     "text": [
      "RnnWorkDataOH:\n",
      "(3, 541, 10)\n"
     ]
    }
   ],
   "source": [
    "PersonId = 1000\n",
    "with open('data/time_base/RnnWorkDataOH_id:'+str(PersonId)+'.npy', 'rb') as f:\n",
    "    RnnWorkDataOH = np.load(f)\n",
    "with open('data/time_base/RnnWeekDataOH_id:'+str(PersonId)+'.npy', 'rb') as f:\n",
    "    RnnWeekDataOH = np.load(f)\n",
    "print('RnnWorkDataOH:')    \n",
    "print(RnnWorkDataOH.shape)\n",
    "#print('RnnWeekDataOH:')\n",
    "#print(RnnWeekDataOH)"
   ]
  },
  {
   "attachments": {},
   "cell_type": "markdown",
   "metadata": {},
   "source": [
    "## Switchable TRM !! STRM in short\n"
   ]
  },
  {
   "attachments": {},
   "cell_type": "markdown",
   "metadata": {},
   "source": [
    "what is switchable TRM? remebmer no_time base and time base TRM.\n",
    "in this phase we want to switch between them !!\n",
    "but how? we can take users feedback as a data and feed to RNN to learn in wich situations we need no time base or time base model !! for example Some habits that are done at a specific time are unfortunately the result of procrastinating for example a person is used to doing one thing at a time, and if we suggest her to do that thing earlier, it might be in her favor But sometimes we may suggest something to the user that she may not want to do because she wants to rest at that time."
   ]
  },
  {
   "attachments": {},
   "cell_type": "markdown",
   "metadata": {},
   "source": [
    "## STRM data sampling"
   ]
  },
  {
   "cell_type": "code",
   "execution_count": 38,
   "metadata": {},
   "outputs": [],
   "source": [
    "def fakeReccomendedSequance(numOfDays = 5,jobsPerADay = 8,currentId = 1000, maxOfWorks = 10): # sampling of recommendation of no time base TRM\n",
    "    m = numOfDays\n",
    "    tx = jobsPerADay\n",
    "    tx = int(np.random.normal(tx,0.3,1))\n",
    "    tmax = maxOfWorks\n",
    "    Xoh = len(dictionary)\n",
    "    x = np.zeros((m,tmax,Xoh))\n",
    "    y = np.zeros((m,tmax,1))\n",
    "    for j in range(m):\n",
    "        for i in range(tx):\n",
    "            randIdx = random.randint(0,len(dictionary)-1)\n",
    "            vec = vecToOneHot(np.array([randIdx]),len(dictionary))\n",
    "            x[j,i,:] = vec \n",
    "            #---------------------------------------------------------------------\n",
    "            label = np.random.choice([0,1], 1, p=[0.7,0.3]) # weighted random , because number of acceptation is less\n",
    "            y[j,i,:] = label\n",
    "            #---------------------------------------------------------------------\n",
    "    print('X.shape => '+str(x.shape))     \n",
    "    print('Y.shape => '+str(y.shape))        \n",
    "    with open('data/switch/switchRnnXData_id:'+str(currentId)+'.npy', 'wb') as f:\n",
    "        np.save(f,x)\n",
    "    print('saved as '+'switchRnnXData_id:'+str(currentId)+'.npy')     \n",
    "    with open('data/switch/switchRnnYData_id:'+str(currentId)+'.npy', 'wb') as f:\n",
    "        np.save(f,y)\n",
    "    print('saved as '+'switchRnnYData_id:'+str(currentId)+'.npy') \n",
    "    print('=========================================')    "
   ]
  },
  {
   "cell_type": "code",
   "execution_count": 39,
   "metadata": {},
   "outputs": [
    {
     "name": "stdout",
     "output_type": "stream",
     "text": [
      "X.shape => (5, 10, 292)\n",
      "Y.shape => (5, 10, 1)\n",
      "saved as switchRnnXData_id:10.130.2.1.npy\n",
      "saved as switchRnnYData_id:10.130.2.1.npy\n",
      "=========================================\n",
      "X.shape => (5, 10, 292)\n",
      "Y.shape => (5, 10, 1)\n",
      "saved as switchRnnXData_id:10.129.2.1.npy\n",
      "saved as switchRnnYData_id:10.129.2.1.npy\n",
      "=========================================\n",
      "X.shape => (5, 10, 292)\n",
      "Y.shape => (5, 10, 1)\n",
      "saved as switchRnnXData_id:10.128.2.1.npy\n",
      "saved as switchRnnYData_id:10.128.2.1.npy\n",
      "=========================================\n",
      "X.shape => (5, 10, 292)\n",
      "Y.shape => (5, 10, 1)\n",
      "saved as switchRnnXData_id:10.131.0.1.npy\n",
      "saved as switchRnnYData_id:10.131.0.1.npy\n",
      "=========================================\n",
      "X.shape => (5, 10, 292)\n",
      "Y.shape => (5, 10, 1)\n",
      "saved as switchRnnXData_id:10.131.2.1.npy\n",
      "saved as switchRnnYData_id:10.131.2.1.npy\n",
      "=========================================\n"
     ]
    }
   ],
   "source": [
    "Persons = data['id'].unique() # array of all unique ids in other hand array of all diffrent persons\n",
    "lenPersons = len(data['id'].unique()) # number of all unique ids in other hand number of all diffrent persons\n",
    "for i in range(lenPersons):\n",
    "    fakeReccomendedSequance(numOfDays = 5,jobsPerADay = 8,currentId =Persons[i] , maxOfWorks = 10)"
   ]
  },
  {
   "cell_type": "code",
   "execution_count": 40,
   "metadata": {},
   "outputs": [
    {
     "name": "stdout",
     "output_type": "stream",
     "text": [
      "switchRnnXDataX:\n",
      "[[[0. 0. 0. ... 0. 0. 0.]\n",
      "  [0. 0. 0. ... 0. 0. 0.]\n",
      "  [0. 0. 0. ... 0. 0. 0.]\n",
      "  ...\n",
      "  [0. 0. 0. ... 0. 0. 0.]\n",
      "  [0. 0. 0. ... 0. 0. 0.]\n",
      "  [0. 0. 0. ... 0. 0. 0.]]\n",
      "\n",
      " [[0. 0. 0. ... 0. 0. 0.]\n",
      "  [0. 0. 0. ... 0. 0. 0.]\n",
      "  [0. 0. 0. ... 0. 0. 0.]\n",
      "  ...\n",
      "  [0. 0. 0. ... 0. 0. 0.]\n",
      "  [0. 0. 0. ... 0. 0. 0.]\n",
      "  [0. 0. 0. ... 0. 0. 0.]]\n",
      "\n",
      " [[0. 0. 0. ... 0. 0. 0.]\n",
      "  [0. 0. 0. ... 0. 0. 0.]\n",
      "  [0. 0. 0. ... 0. 0. 0.]\n",
      "  ...\n",
      "  [0. 0. 0. ... 0. 0. 0.]\n",
      "  [0. 0. 0. ... 0. 0. 0.]\n",
      "  [0. 0. 0. ... 0. 0. 0.]]\n",
      "\n",
      " [[0. 0. 0. ... 0. 0. 0.]\n",
      "  [0. 0. 0. ... 0. 0. 0.]\n",
      "  [0. 0. 0. ... 0. 0. 0.]\n",
      "  ...\n",
      "  [0. 0. 0. ... 0. 0. 0.]\n",
      "  [0. 0. 0. ... 0. 0. 0.]\n",
      "  [0. 0. 0. ... 0. 0. 0.]]\n",
      "\n",
      " [[0. 0. 0. ... 0. 0. 0.]\n",
      "  [0. 0. 0. ... 0. 0. 0.]\n",
      "  [0. 0. 0. ... 0. 0. 0.]\n",
      "  ...\n",
      "  [0. 0. 0. ... 0. 0. 0.]\n",
      "  [0. 0. 0. ... 0. 0. 0.]\n",
      "  [0. 0. 0. ... 0. 0. 0.]]]\n",
      "--------------------------------\n",
      "switchRnnYDataY:\n",
      "[[[1.]\n",
      "  [0.]\n",
      "  [0.]\n",
      "  [0.]\n",
      "  [1.]\n",
      "  [0.]\n",
      "  [0.]\n",
      "  [0.]\n",
      "  [0.]\n",
      "  [0.]]\n",
      "\n",
      " [[0.]\n",
      "  [1.]\n",
      "  [0.]\n",
      "  [0.]\n",
      "  [1.]\n",
      "  [1.]\n",
      "  [0.]\n",
      "  [1.]\n",
      "  [0.]\n",
      "  [0.]]\n",
      "\n",
      " [[0.]\n",
      "  [0.]\n",
      "  [0.]\n",
      "  [0.]\n",
      "  [0.]\n",
      "  [0.]\n",
      "  [0.]\n",
      "  [0.]\n",
      "  [0.]\n",
      "  [0.]]\n",
      "\n",
      " [[0.]\n",
      "  [0.]\n",
      "  [1.]\n",
      "  [0.]\n",
      "  [1.]\n",
      "  [1.]\n",
      "  [0.]\n",
      "  [0.]\n",
      "  [0.]\n",
      "  [0.]]\n",
      "\n",
      " [[1.]\n",
      "  [0.]\n",
      "  [0.]\n",
      "  [0.]\n",
      "  [0.]\n",
      "  [0.]\n",
      "  [0.]\n",
      "  [1.]\n",
      "  [0.]\n",
      "  [0.]]]\n"
     ]
    }
   ],
   "source": [
    "currentId = '10.128.2.1'\n",
    "with open('data/switch/switchRnnXData_id:'+str(currentId)+'.npy', 'rb') as f:\n",
    "        switchRnnXDataX = np.load(f)\n",
    "with open('data/switch/switchRnnYData_id:'+str(currentId)+'.npy', 'rb') as f:\n",
    "        switchRnnYDataY = np.load(f)\n",
    "print('switchRnnXDataX:')               \n",
    "print(switchRnnXDataX)\n",
    "print('--------------------------------')\n",
    "print('switchRnnYDataY:')  \n",
    "print(switchRnnYDataY)"
   ]
  },
  {
   "attachments": {},
   "cell_type": "markdown",
   "metadata": {},
   "source": [
    "# A partial insight into our Architecture\n",
    "\n",
    "![Alt text](images/generative%20_lstm.png)\n",
    "\n",
    "That is our TRM diagram that can use for no_time base and time base TRM\n",
    "\n",
    "In our STRM first we should train both no_time base and time base models with particular data thet you have seen before in last part . after that we can use our no_time base TRM in test phase wich recommending a series of tasks immediately after completing the previous tasks in this part we can chek our job with asking a question or look even more closely to see if the user did them (accepted) or rejected them ! if they accepted our recommendation it means that we can do like this:\n",
    "\n",
    "![Alt text](images/trm_data.png)\n",
    "\n",
    "in this part we can check after one day(daily)(because our model and data designed daily) and make this kinds of data.\n",
    "a sequence of recommende works and ther acceptation lable for our recommended works ! after that we can train another model called Switch to learn after our first learning on no_time base model. after learning on Switch \n",
    "we can feed our prediction on no_time base model to this Switch model to know if we should recomend this work now or we have to wait until its time !(or if we have to use no_time base or time base model for this particular work sequence)\n",
    "\n",
    "![Alt text](images/trm_model.png)"
   ]
  },
  {
   "attachments": {},
   "cell_type": "markdown",
   "metadata": {},
   "source": [
    "# Finally Keras Model !!"
   ]
  },
  {
   "cell_type": "code",
   "execution_count": 41,
   "metadata": {},
   "outputs": [
    {
     "name": "stderr",
     "output_type": "stream",
     "text": [
      "2023-02-08 09:47:10.825764: I tensorflow/core/platform/cpu_feature_guard.cc:193] This TensorFlow binary is optimized with oneAPI Deep Neural Network Library (oneDNN) to use the following CPU instructions in performance-critical operations:  AVX2 FMA\n",
      "To enable them in other operations, rebuild TensorFlow with the appropriate compiler flags.\n"
     ]
    }
   ],
   "source": [
    "import numpy as np\n",
    "from numpy import log\n",
    "import matplotlib.pyplot as plt\n",
    "import tensorflow as tf\n",
    "from tensorflow.keras.layers import Dense, Activation, Dropout, Input, LSTM, Reshape, Lambda, RepeatVector\n",
    "from tensorflow.keras.models import Model,Sequential\n",
    "from tensorflow.keras.optimizers import Adam\n",
    "from tensorflow.keras.utils import to_categorical\n",
    "from tensorflow import random"
   ]
  },
  {
   "attachments": {},
   "cell_type": "markdown",
   "metadata": {},
   "source": [
    "### Data for single id"
   ]
  },
  {
   "cell_type": "code",
   "execution_count": 42,
   "metadata": {},
   "outputs": [
    {
     "name": "stdout",
     "output_type": "stream",
     "text": [
      "RnnWorkDataOH.shape => (55, 95, 293)\n"
     ]
    }
   ],
   "source": [
    "PersonId = '10.130.2.1'\n",
    "with open('data/no_time_base/RnnWorkDataOH_id:'+str(PersonId)+'.npy', 'rb') as f:\n",
    "    RnnWorkDataOH = np.load(f)\n",
    "print('RnnWorkDataOH.shape =>',RnnWorkDataOH.shape)  #(m,Tx,n_values)\n",
    "#model parameters :\n",
    "n_values = RnnWorkDataOH.shape[-1] # number of work values => 293\n",
    "Tx = RnnWorkDataOH.shape[1] # Sequence lenght  => 95 + 1\n",
    "m = RnnWorkDataOH.shape[0] # number of training examples  => 55\n",
    "n_a = 32  # number of dimensions for the hidden state of each LSTM cell. hyper parameters"
   ]
  },
  {
   "cell_type": "code",
   "execution_count": 43,
   "metadata": {},
   "outputs": [
    {
     "data": {
      "text/plain": [
       "(55, 95, 293)"
      ]
     },
     "execution_count": 43,
     "metadata": {},
     "output_type": "execute_result"
    }
   ],
   "source": [
    "RnnWorkDataOH.shape"
   ]
  },
  {
   "attachments": {},
   "cell_type": "markdown",
   "metadata": {},
   "source": [
    "## About dataset...\n",
    "\n",
    "- `X`: This is an (m, $T_x$, 293) dimensional array. \n",
    "    - You have m training examples, each of which is a snippet of $T_x = 95 $ works per a day. \n",
    "    - At each time step, the input is one of 293 different possible values, represented as a one-hot vector. \n",
    "        - For example, X[i,t,:] is a one-hot vector representing the value of the i-th example at time t. \n",
    "\n",
    "- `Y`: a $(T_y, m, 293)$ dimensional array\n",
    "    - This is essentially the same as `X`, but shifted one step to the left (to the past). \n",
    "    - Notice that the data in `Y` is **reordered** to be dimension $(T_y, m, 293)$, where $T_y = T_x$. This format makes it more convenient to feed into the LSTM later.\n",
    "    - Similar to the dinosaur assignment, you're using the previous values to predict the next value.\n",
    "        - So your sequence model will try to predict $y^{\\langle t \\rangle}$ given $x^{\\langle 1\\rangle}, \\ldots, x^{\\langle t \\rangle}$. \n",
    "\n",
    "- `n_values`: The number of unique values in this dataset. This should be 293. \n",
    "\n",
    "- for converting our corpus to X and Y we can add zeros vector fisrt of our data to build X\n",
    "and add zeros vector to the end to have Y \n"
   ]
  },
  {
   "cell_type": "code",
   "execution_count": 44,
   "metadata": {},
   "outputs": [],
   "source": [
    "def XY(dataset):\n",
    "    # dataset named RnnWorkDataOH \n",
    "    #this vectorized function stacks a zero vec before X and after Y ...\n",
    "    dim1,dim2,dim3 = dataset.shape\n",
    "    #-----------------------------------\n",
    "    X = np.zeros((dim1, dim2 + 1, dim3))\n",
    "    Y = np.zeros((dim1, dim2 + 1, dim3))\n",
    "    #-----------------------------------\n",
    "    X[:,1:,:] = dataset\n",
    "    Y[:,:-1,:] = dataset\n",
    "    #-----------------------------------\n",
    "    Y = np.swapaxes(Y,0,1) #but why you should use this? run next cell...\n",
    "    return X,Y\n",
    "    "
   ]
  },
  {
   "cell_type": "code",
   "execution_count": 45,
   "metadata": {},
   "outputs": [
    {
     "name": "stdout",
     "output_type": "stream",
     "text": [
      "[[[4 0 5 4]\n",
      "  [4 3 2 6]\n",
      "  [2 2 6 5]]\n",
      "\n",
      " [[1 5 1 7]\n",
      "  [8 4 8 0]\n",
      "  [5 0 4 0]]]\n",
      "--------------\n",
      "[[[4 0 5 4]\n",
      "  [1 5 1 7]]\n",
      "\n",
      " [[4 3 2 6]\n",
      "  [8 4 8 0]]\n",
      "\n",
      " [[2 2 6 5]\n",
      "  [5 0 4 0]]]\n"
     ]
    }
   ],
   "source": [
    "### swapaxes example\n",
    "np.random.seed(seed=2)\n",
    "arr_test = (np.random.rand(2,3,4) *10).astype(int) #(m,tx,n)\n",
    "print(arr_test)\n",
    "print('--------------')\n",
    "print(np.swapaxes(arr_test,0,1))"
   ]
  },
  {
   "cell_type": "code",
   "execution_count": 46,
   "metadata": {},
   "outputs": [],
   "source": [
    "X,Y = XY(RnnWorkDataOH)"
   ]
  },
  {
   "attachments": {},
   "cell_type": "markdown",
   "metadata": {},
   "source": [
    "## Sequence generation uses a for-loop\n",
    "* If you're building an RNN where, at test time, the entire input sequence $x^{\\langle 1 \\rangle}, x^{\\langle 2 \\rangle}, \\ldots, x^{\\langle T_x \\rangle}$ is given in advance, then Keras has simple built-in functions to build the model. \n",
    "* However, for **sequence generation, at test time you won't know all the values of $x^{\\langle t\\rangle}$ in advance**.\n",
    "* Instead, you'll generate them one at a time using $x^{\\langle t\\rangle} = y^{\\langle t-1 \\rangle}$. \n",
    "    * The input at time \"t\" is the prediction at the previous time step \"t-1\".\n",
    "* So you'll need to implement your own for-loop to iterate over the time steps. \n",
    "#### Shareable weights\n",
    "* The function `trmModel()` will call the LSTM layer $T_x$ times using a for-loop.\n",
    "* It is important that all $T_x$ copies have the same weights. \n",
    "    - The $T_x$ steps should have shared weights that aren't re-initialized.\n",
    "* Referencing a globally defined shared layer will utilize the same layer-object instance at each time step.\n",
    "* The key steps for implementing layers with shareable weights in Keras are: \n",
    "1. Define the layer objects (you'll use global variables for this).\n",
    "2. Call these objects when propagating the input.\n",
    "\n",
    "#### 3 types of layers\n",
    "* The layer objects you need for global variables have been defined.  \n",
    "    * Just run the next cell to create them! \n",
    "* Please read the Keras documentation and understand these layers: \n",
    "    - [Reshape()](https://www.tensorflow.org/api_docs/python/tf/keras/layers/Reshape): Reshapes an output to a certain shape.\n",
    "    - [LSTM()](https://www.tensorflow.org/api_docs/python/tf/keras/layers/LSTM): Long Short-Term Memory layer\n",
    "    - [Dense()](https://www.tensorflow.org/api_docs/python/tf/keras/layers/Dense): A regular fully-connected neural network layer.\n"
   ]
  },
  {
   "cell_type": "code",
   "execution_count": 47,
   "metadata": {},
   "outputs": [
    {
     "name": "stderr",
     "output_type": "stream",
     "text": [
      "2023-02-08 09:47:17.616625: I tensorflow/core/platform/cpu_feature_guard.cc:193] This TensorFlow binary is optimized with oneAPI Deep Neural Network Library (oneDNN) to use the following CPU instructions in performance-critical operations:  AVX2 FMA\n",
      "To enable them in other operations, rebuild TensorFlow with the appropriate compiler flags.\n"
     ]
    }
   ],
   "source": [
    "reshaper = Reshape((1, n_values),name='myReshaper')                # Used in Step 2.B of trmModel(), below\n",
    "LSTM_cell = LSTM(n_a, return_state = True,name='myLSTM_cell')      # Used in Step 2.C\n",
    "densor = Dense(n_values, activation='softmax',name='myDensor')     # Used in Step 2.D"
   ]
  },
  {
   "attachments": {},
   "cell_type": "markdown",
   "metadata": {},
   "source": [
    "* `reshaper`, `LSTM_cell` and `densor` are globally defined layer objects that you'll use to implement `trmModel()`. \n",
    "* In order to propagate a Keras tensor object X through one of these layers, use `layer_object()`.\n",
    "    - For one input, use `layer_object(X)`\n",
    "    - For more than one input, put the inputs in a list: `layer_object([X1,X2])`"
   ]
  },
  {
   "attachments": {},
   "cell_type": "markdown",
   "metadata": {},
   "source": [
    "<a name='ex-1'></a>\n",
    "### trmModel\n",
    "\n",
    "Implement `trmModel()`.\n",
    "\n",
    "#### Inputs (given)\n",
    "\n",
    "* The `Input()` layer is used for defining the input `X` as well as the initial hidden state 'a0' and cell state `c0`.\n",
    "* The `shape` parameter takes a tuple that does not include the batch dimension (`m`).\n",
    "    - For example,\n",
    "    ```Python\n",
    "    X = Input(shape=(Tx, n_values)) # X has 3 dimensions and not 2: (m, Tx, n_values)\n",
    "    ```\n",
    "    \n",
    "#### Step 1: Outputs\n",
    "\n",
    "* Create an empty list \"outputs\" to save the outputs of the LSTM Cell at every time step.\n",
    "\n",
    "#### Step 2: Loop through time steps\n",
    "* Loop for $t \\in 1, \\ldots, T_x$:\n",
    "\n",
    "#### 2A. Select the 't' time-step vector from `X`.\n",
    "* X has the shape (m, Tx, n_values).\n",
    "* The shape of the 't' selection should be (n_values,). \n",
    "* Recall that if you were implementing in numpy instead of Keras, you would extract a slice from a 3D numpy array like this:\n",
    "```Python\n",
    "var1 = array1[:,1,:]\n",
    "```\n",
    "    \n",
    "#### 2B. Reshape `x` to be (1, n_values).\n",
    "* Use the `reshaper()` layer.  This is a function that takes the previous layer as its input argument.\n",
    "\n",
    "#### 2C. Run `x` through one step of `LSTM_cell`.\n",
    "\n",
    "* Initialize the `LSTM_cell` with the previous step's hidden state $a$ and cell state $c$. \n",
    "* Use the following formatting:\n",
    "```python\n",
    "next_hidden_state, _, next_cell_state = LSTM_cell(inputs=input_x, initial_state=[previous_hidden_state, previous_cell_state])\n",
    "```\n",
    "    * Choose appropriate variables for inputs, hidden state and cell state.\n",
    "\n",
    "#### 2D. Dense layer\n",
    "* Propagate the LSTM's hidden state through a dense+softmax layer using `densor`. \n",
    "    \n",
    "#### 2E. Append output\n",
    "* Append the output to the list of \"outputs\".\n",
    "\n",
    "#### Step 3: After the loop, create the model\n",
    "* Use the Keras `Model` object to create a model. There are two ways to instantiate the `Model` object. One is by subclassing, which you won't use here. Instead, you'll use the highly flexible Functional API, which you may remember from an earlier assignment in this course! With the Functional API, you'll start from your Input, then specify the model's forward pass with chained layer calls, and finally create the model from inputs and outputs.\n",
    "\n",
    "* Specify the inputs and output like so:\n",
    "```Python\n",
    "model = Model(inputs=[input_x, initial_hidden_state, initial_cell_state], outputs=the_outputs)\n",
    "```\n",
    "    * Then, choose the appropriate variables for the input tensor, hidden state, cell state, and output.\n",
    "* See the documentation for [Model](https://www.tensorflow.org/api_docs/python/tf/keras/Model)"
   ]
  },
  {
   "attachments": {},
   "cell_type": "markdown",
   "metadata": {},
   "source": [
    "### what is reshapor in example?"
   ]
  },
  {
   "cell_type": "code",
   "execution_count": 48,
   "metadata": {},
   "outputs": [
    {
     "name": "stdout",
     "output_type": "stream",
     "text": [
      "x.shape => (None, 90, 293)\n",
      "x[:,1,:].shape => (None, 293)\n",
      "Reshape()(x).shape => (None, 1, 293)\n"
     ]
    }
   ],
   "source": [
    "x_test = Input(shape=(90, 293)) \n",
    "print('x.shape =>',x_test.shape)\n",
    "x_test = x_test[:,1,:]\n",
    "print('x[:,1,:].shape =>',x_test.shape)\n",
    "x_test = Reshape((1,293))(x_test)\n",
    "print('Reshape()(x).shape =>',x_test.shape) # so we have extra dim in axis 1 (expand dim!!)"
   ]
  },
  {
   "cell_type": "code",
   "execution_count": 49,
   "metadata": {},
   "outputs": [],
   "source": [
    "def testTrmModel(Tx, LSTM_cell, densor, reshaper):\n",
    "    n_a = LSTM_cell.units\n",
    "    n_values = densor.units\n",
    "    #---------------------------------\n",
    "    X = Input(shape = (Tx,n_values))\n",
    "    X = Input(shape=(Tx, n_values))\n",
    "    a0 = Input(shape = (n_a,),name = 'a0')\n",
    "    c0 = Input(shape = (n_a,),name = 'c0')\n",
    "    a = a0\n",
    "    c = c0\n",
    "    outputs = []\n",
    "    for i in range(Tx):\n",
    "        x = X[:,i,:]\n",
    "        x = reshaper(x)\n",
    "        a, _, c= LSTM_cell(inputs= x , initial_state=[a,c])\n",
    "        out = densor(a)\n",
    "        outputs.append(out)\n",
    "    #---------------------------------\n",
    "    model = Model(inputs=[X, a0, c0], outputs=outputs)   \n",
    "    #---------------------------------\n",
    "    return model"
   ]
  },
  {
   "attachments": {},
   "cell_type": "markdown",
   "metadata": {},
   "source": [
    "## Keras Model:"
   ]
  },
  {
   "attachments": {},
   "cell_type": "markdown",
   "metadata": {},
   "source": [
    "### trmModel()"
   ]
  },
  {
   "cell_type": "code",
   "execution_count": 50,
   "metadata": {},
   "outputs": [],
   "source": [
    "def trmModel(Tx, LSTM_cell, densor, reshaper):\n",
    "    \"\"\"\n",
    "    Implement the trmModel composed of Tx LSTM cells where each cell is responsible\n",
    "    for learning the following note based on the previous note and context.\n",
    "    Each cell has the following schema: \n",
    "            [X_{t}, a_{t-1}, c0_{t-1}] -> RESHAPE() -> LSTM() -> DENSE()\n",
    "    Arguments:\n",
    "        Tx -- length of the sequences in the corpus\n",
    "        LSTM_cell -- LSTM layer instance\n",
    "        densor -- Dense layer instance\n",
    "        reshaper -- Reshape layer instance\n",
    "    \n",
    "    Returns:\n",
    "        model -- a keras instance model with inputs [X, a0, c0]\n",
    "    \"\"\"\n",
    "    # Get the shape of input values\n",
    "    n_values = densor.units\n",
    "    #------------------------------------------------\n",
    "    # Get the number of the hidden state vector\n",
    "    n_a = LSTM_cell.units\n",
    "    #------------------------------------------------\n",
    "    # Define the input layer and specify the shape\n",
    "    X = Input(shape=(Tx, n_values),name='X') #(None, Tx, n_values)\n",
    "    #------------------------------------------------\n",
    "    # Define the initial hidden state a0 and initial cell state c0\n",
    "    # using `Input`\n",
    "    a0 = Input(shape=(n_a,), name='a0')\n",
    "    c0 = Input(shape=(n_a,), name='c0')\n",
    "    a = a0\n",
    "    c = c0\n",
    "    #-------------------------------------------------\n",
    "    #Create empty list to append the outputs while you iterate (≈1 line)\n",
    "    outputs = []\n",
    "    #-------------------------------------------------\n",
    "    #Loop over tx\n",
    "    for t in range(Tx):\n",
    "        #--------------------------------------------- \n",
    "        #Select the \"t\"th time step vector from X. \n",
    "        x = X[:,t,:] #(None, n_values)\n",
    "        #Use reshaper to reshape x to be (1, n_values) (≈1 line)\n",
    "        x = reshaper(x) #(None, 1, n_values)\n",
    "        #Perform one step of the LSTM_cell\n",
    "        a, _, c = LSTM_cell(inputs=x, initial_state=[a,c])\n",
    "        #Apply densor to the hidden state output of LSTM_Cell\n",
    "        out = densor(a)\n",
    "        #Add the output to \"outputs\"\n",
    "        outputs.append(out)\n",
    "    #-------------------------------------------------   \n",
    "    #Create model instance\n",
    "    model = Model(inputs=[X, a0, c0], outputs=outputs)\n",
    "    return model"
   ]
  },
  {
   "cell_type": "code",
   "execution_count": 51,
   "metadata": {},
   "outputs": [
    {
     "name": "stdout",
     "output_type": "stream",
     "text": [
      "whole_seq_output => (32, 10, 4)\n",
      "final_memory_state => (32, 4)\n",
      "final_carry_state => (32, 4)\n",
      "--------------------------------\n",
      "whole_seq_output => (32, 10, 4)\n",
      "--------------------------------\n",
      "lstm1 => (32, 4)\n",
      "state_h => (32, 4)\n",
      "state_c => (32, 4)\n",
      "--------------------------------\n",
      "output => (32, 4)\n"
     ]
    }
   ],
   "source": [
    "#please run this Keras example to get more ituation\n",
    "inputs = random.normal([32, 10, 8])\n",
    "lstm = LSTM(4)\n",
    "#---------------------------------------------------------------------\n",
    "lstm = LSTM(4, return_sequences=True, return_state=True)\n",
    "whole_seq_output, final_memory_state, final_carry_state = lstm(inputs)\n",
    "print('whole_seq_output =>',whole_seq_output.shape)\n",
    "print('final_memory_state =>',final_memory_state.shape)\n",
    "print('final_carry_state =>',final_carry_state.shape)\n",
    "print('--------------------------------')\n",
    "#---------------------------------------------------------------------\n",
    "lstm = LSTM(4, return_sequences=True, return_state=False)\n",
    "whole_seq_output = lstm(inputs)\n",
    "print('whole_seq_output =>',whole_seq_output.shape)\n",
    "print('--------------------------------')\n",
    "#---------------------------------------------------------------------\n",
    "lstm = LSTM(4, return_sequences=False, return_state=True)\n",
    "lstm1, state_h, state_c,= lstm(inputs)\n",
    "print('lstm1 =>',lstm1.shape)\n",
    "print('state_h =>',state_h.shape)\n",
    "print('state_c =>',state_c.shape)\n",
    "print('--------------------------------') # Note that lstm1 and state_h are same\n",
    "#---------------------------------------------------------------------\n",
    "lstm = LSTM(4, return_sequences=False, return_state=False)\n",
    "output = lstm(inputs)\n",
    "print('output =>',output.shape)\n",
    "#---------------------------------------------------------------------\n",
    "inputs = np.zeros(shape=(32, 10, 8))\n",
    "lstm = LSTM(4)\n",
    "output = lstm(inputs)"
   ]
  },
  {
   "attachments": {},
   "cell_type": "markdown",
   "metadata": {},
   "source": [
    "#### Create the model object\n",
    "* Run the following cell to define your model. \n",
    "* We will use `Tx=95 + 1`. \n",
    "* This cell may take a few seconds to run. "
   ]
  },
  {
   "cell_type": "code",
   "execution_count": 52,
   "metadata": {},
   "outputs": [],
   "source": [
    "model = trmModel(Tx=96, LSTM_cell=LSTM_cell, densor=densor, reshaper=reshaper)"
   ]
  },
  {
   "cell_type": "code",
   "execution_count": 53,
   "metadata": {},
   "outputs": [],
   "source": [
    "#model.summary()"
   ]
  },
  {
   "cell_type": "code",
   "execution_count": 54,
   "metadata": {},
   "outputs": [
    {
     "name": "stdout",
     "output_type": "stream",
     "text": [
      "[(None, 293), (None, 293), (None, 293), (None, 293), (None, 293), (None, 293), (None, 293), (None, 293), (None, 293), (None, 293), (None, 293), (None, 293), (None, 293), (None, 293), (None, 293), (None, 293), (None, 293), (None, 293), (None, 293), (None, 293), (None, 293), (None, 293), (None, 293), (None, 293), (None, 293), (None, 293), (None, 293), (None, 293), (None, 293), (None, 293), (None, 293), (None, 293), (None, 293), (None, 293), (None, 293), (None, 293), (None, 293), (None, 293), (None, 293), (None, 293), (None, 293), (None, 293), (None, 293), (None, 293), (None, 293), (None, 293), (None, 293), (None, 293), (None, 293), (None, 293), (None, 293), (None, 293), (None, 293), (None, 293), (None, 293), (None, 293), (None, 293), (None, 293), (None, 293), (None, 293), (None, 293), (None, 293), (None, 293), (None, 293), (None, 293), (None, 293), (None, 293), (None, 293), (None, 293), (None, 293), (None, 293), (None, 293), (None, 293), (None, 293), (None, 293), (None, 293), (None, 293), (None, 293), (None, 293), (None, 293), (None, 293), (None, 293), (None, 293), (None, 293), (None, 293), (None, 293), (None, 293), (None, 293), (None, 293), (None, 293), (None, 293), (None, 293), (None, 293), (None, 293), (None, 293), (None, 293)]\n"
     ]
    }
   ],
   "source": [
    "print((model.output_shape)) "
   ]
  },
  {
   "attachments": {},
   "cell_type": "markdown",
   "metadata": {},
   "source": [
    "#### Compile the model for training\n",
    "* You now need to compile your model to be trained. \n",
    "* We will use:\n",
    "    - optimizer: Adam optimizer\n",
    "    - Loss function: categorical cross-entropy (for multi-class classification)"
   ]
  },
  {
   "cell_type": "code",
   "execution_count": 55,
   "metadata": {},
   "outputs": [],
   "source": [
    "n_a = LSTM_cell.units\n",
    "m = 55\n",
    "a0 = np.zeros((m, n_a))\n",
    "c0 = np.zeros((m, n_a))"
   ]
  },
  {
   "cell_type": "code",
   "execution_count": 56,
   "metadata": {},
   "outputs": [],
   "source": [
    "opt = Adam(lr=0.01, beta_1=0.9, beta_2=0.999, decay=0.01)\n",
    "model.compile(optimizer=opt, loss='categorical_crossentropy', metrics=['accuracy'])"
   ]
  },
  {
   "cell_type": "code",
   "execution_count": 57,
   "metadata": {},
   "outputs": [],
   "source": [
    "history = model.fit([np.array(X), a0, c0], list(Y), epochs=10, verbose = 0)"
   ]
  },
  {
   "cell_type": "code",
   "execution_count": 58,
   "metadata": {},
   "outputs": [
    {
     "name": "stdout",
     "output_type": "stream",
     "text": [
      "loss at epoch 1: 533.5243530273438\n",
      "loss at epoch 10 : 185.4423065185547\n"
     ]
    },
    {
     "data": {
      "text/plain": [
       "[<matplotlib.lines.Line2D at 0x7fb9082e0850>]"
      ]
     },
     "execution_count": 58,
     "metadata": {},
     "output_type": "execute_result"
    },
    {
     "data": {
      "image/png": "[encoded data removed]",
      "text/plain": [
       "<Figure size 432x288 with 1 Axes>"
      ]
     },
     "metadata": {
      "needs_background": "light"
     },
     "output_type": "display_data"
    }
   ],
   "source": [
    "print(f\"loss at epoch 1: {history.history['loss'][0]}\")\n",
    "print(f\"loss at epoch \" + str(len(history.epoch))+f\" : {history.history['loss'][len(history.epoch) - 1]}\")\n",
    "#fig = plt.figure(figsize=(25, 10))\n",
    "plt.plot(history.history['loss'])"
   ]
  },
  {
   "attachments": {},
   "cell_type": "markdown",
   "metadata": {},
   "source": [
    "### Nice ;) !!"
   ]
  },
  {
   "attachments": {},
   "cell_type": "markdown",
   "metadata": {},
   "source": [
    "## 3 - Generating Sequence(single input without beam search)\n",
    "\n",
    "You now have a trained model which has learned the patterns of a user tasks. You can now use this model to synthesize new Sequence! \n",
    "\n",
    "<a name='3-1'></a>\n",
    "### 3.1 - Predicting & Sampling\n",
    "\n",
    "<img src=\"images/music_gen.png\" style=\"width:600;height:400px;\">\n",
    "<center><caption><b><font color='purple'>Figure 2: Generating new values in an LSTM </b></font>"
   ]
  },
  {
   "attachments": {},
   "cell_type": "markdown",
   "metadata": {},
   "source": [
    "#### At each step of sampling, you will:\n",
    "* Take as input the activation '`a`' and cell state '`c`' from the previous state of the LSTM.\n",
    "* Forward propagate by one step.\n",
    "* Get a new output activation, as well as cell state. \n",
    "* The new activation '`a`' can then be used to generate the output using the fully connected layer, `densor`. \n",
    "\n",
    "#### Initialization\n",
    "* You'll initialize the following to be zeros:\n",
    "    * `x0` \n",
    "    * hidden state `a0` \n",
    "    * cell state `c0` "
   ]
  },
  {
   "cell_type": "code",
   "execution_count": 59,
   "metadata": {},
   "outputs": [],
   "source": [
    "'''\n",
    "Why should we use \n",
    " - tf.math.argmax()\n",
    " - tf.one_hot()\n",
    " - RepeatVector() ??\n",
    "\n",
    "temp = tf.math.argmax([[4,40,4],[4,40,4]],-1)\n",
    "print(temp)\n",
    "temp = tf.one_hot(temp,5)\n",
    "print(temp)\n",
    "RepeatVector(1)(temp)\n",
    "\n",
    "tf.Tensor([1 1], shape=(2,), dtype=int64)\n",
    "tf.Tensor(\n",
    "[[0. 1. 0. 0. 0.]\n",
    " [0. 1. 0. 0. 0.]], shape=(2, 5), dtype=float32)\n",
    "<tf.Tensor: shape=(2, 1, 5), dtype=float32, numpy=\n",
    "array([[[0., 1., 0., 0., 0.]],\n",
    "\n",
    "       [[0., 1., 0., 0., 0.]]], dtype=float32)>'''\n",
    "pass"
   ]
  },
  {
   "attachments": {},
   "cell_type": "markdown",
   "metadata": {},
   "source": [
    "### uniInputSequenceInferenceModel()"
   ]
  },
  {
   "cell_type": "code",
   "execution_count": 60,
   "metadata": {},
   "outputs": [],
   "source": [
    "def uniInputSequenceInferenceModel(LSTM_cell, densor,Ty = 10):\n",
    "    \"\"\"\n",
    "    Uses the trained \"LSTM_cell\" and \"densor\" from model() to generate a sequence of values.\n",
    "    \n",
    "    Arguments:\n",
    "    LSTM_cell -- the trained \"LSTM_cell\" from model(), Keras layer object\n",
    "    densor -- the trained \"densor\" from model(), Keras layer object\n",
    "    Ty -- integer, number of time steps to generate\n",
    "    \n",
    "    Returns:\n",
    "    inference_model -- Keras model instance\n",
    "    \"\"\"\n",
    "    \n",
    "    # Get the shape of input values\n",
    "    n_values = densor.units\n",
    "    # Get the number of the hidden state vector\n",
    "    n_a = LSTM_cell.units\n",
    "    \n",
    "    # Define the input of your model with a shape \n",
    "    x0 = Input(shape=(1, n_values))\n",
    "    \n",
    "    \n",
    "    # Define s0, initial hidden state for the decoder LSTM\n",
    "    a0 = Input(shape=(n_a,), name='a0')\n",
    "    c0 = Input(shape=(n_a,), name='c0')\n",
    "    a = a0\n",
    "    c = c0\n",
    "    x = x0\n",
    "\n",
    "    # Step 1: Create an empty list of \"outputs\" to later store your predicted values (≈1 line)\n",
    "    outputs = []\n",
    "    \n",
    "    # Step 2: Loop over Ty and generate a value at every time step\n",
    "    for t in range(Ty):\n",
    "        # Step 2.A: Perform one step of LSTM_cell. Use \"x\", not \"x0\" (≈1 line)\n",
    "        a, _, c = LSTM_cell(inputs=x, initial_state=[a,c])\n",
    "        \n",
    "        # Step 2.B: Apply Dense layer to the hidden state output of the LSTM_cell (≈1 line)\n",
    "        out = densor(a)\n",
    "        # Step 2.C: Append the prediction \"out\" to \"outputs\". out.shape = (None, 90) (≈1 line)\n",
    "        outputs.append(out)\n",
    " \n",
    "        # Step 2.D: \n",
    "        # Select the next value according to \"out\",\n",
    "        # Set \"x\" to be the one-hot representation of the selected value\n",
    "        # See instructions above.\n",
    "        x = tf.math.argmax(out,-1)\n",
    "        x = tf.one_hot(x,n_values)\n",
    "        # Step 2.E: \n",
    "        # Use RepeatVector(1) to convert x into a tensor with shape=(None, 1, 90)\n",
    "        x = RepeatVector(1)(x)\n",
    "        \n",
    "    # Step 3: Create model instance with the correct \"inputs\" and \"outputs\" (≈1 line)\n",
    "    inference_model = Model(inputs = [x0,a0,c0] , outputs = outputs)\n",
    "    \n",
    "    \n",
    "    return inference_model"
   ]
  },
  {
   "cell_type": "code",
   "execution_count": 61,
   "metadata": {},
   "outputs": [],
   "source": [
    "'''\n",
    "What is sequenceInferenceModel(LSTM_cell, densor) type? \n",
    "<keras.engine.functional.Functional at 0x7fcee9e5f370>'''\n",
    "pass"
   ]
  },
  {
   "cell_type": "code",
   "execution_count": 62,
   "metadata": {},
   "outputs": [],
   "source": [
    "uni_inference_model = uniInputSequenceInferenceModel(LSTM_cell, densor, Ty = 50)"
   ]
  },
  {
   "cell_type": "code",
   "execution_count": 63,
   "metadata": {},
   "outputs": [
    {
     "data": {
      "text/plain": [
       "[(None, 1, 293), (None, 32), (None, 32)]"
      ]
     },
     "execution_count": 63,
     "metadata": {},
     "output_type": "execute_result"
    }
   ],
   "source": [
    "uni_inference_model.input_shape"
   ]
  },
  {
   "cell_type": "code",
   "execution_count": 64,
   "metadata": {},
   "outputs": [
    {
     "data": {
      "text/plain": [
       "[(None, 293), (None, 293), (None, 293)]"
      ]
     },
     "execution_count": 64,
     "metadata": {},
     "output_type": "execute_result"
    }
   ],
   "source": [
    "uni_inference_model.output_shape[0:3] # insted of 3 in fact it is 96 "
   ]
  },
  {
   "cell_type": "code",
   "execution_count": 65,
   "metadata": {},
   "outputs": [],
   "source": [
    "#inference_model.summary()"
   ]
  },
  {
   "cell_type": "code",
   "execution_count": 66,
   "metadata": {},
   "outputs": [],
   "source": [
    "x_initializer = np.zeros((1, 1, n_values))\n",
    "a_initializer = np.zeros((1, n_a))\n",
    "c_initializer = np.zeros((1, n_a))"
   ]
  },
  {
   "cell_type": "code",
   "execution_count": 67,
   "metadata": {},
   "outputs": [
    {
     "name": "stdout",
     "output_type": "stream",
     "text": [
      "1/1 [==============================] - 15s 15s/step\n"
     ]
    }
   ],
   "source": [
    "uniModelPred  = uni_inference_model.predict([x_initializer, a_initializer, c_initializer])"
   ]
  },
  {
   "cell_type": "code",
   "execution_count": 68,
   "metadata": {},
   "outputs": [],
   "source": [
    "testX = X[1,0:10,:]\n",
    "testX = np.expand_dims(testX,axis=0)"
   ]
  },
  {
   "cell_type": "code",
   "execution_count": 69,
   "metadata": {},
   "outputs": [],
   "source": [
    "def multiInputSequenceInferenceModel(LSTM_cell, densor,Ty,Tx):\n",
    "    \"\"\"\n",
    "    Uses the trained \"LSTM_cell\" and \"densor\" from model() to generate a sequence of values.\n",
    "    \n",
    "    Arguments:\n",
    "    LSTM_cell -- the trained \"LSTM_cell\" from model(), Keras layer object\n",
    "    densor -- the trained \"densor\" from model(), Keras layer object\n",
    "    Ty -- integer, number of time steps to generate\n",
    "    sequence -- sequence of works you have done so far in that day\n",
    "\n",
    "    Returns:\n",
    "    inference_model -- Keras model instance\n",
    "    \"\"\"\n",
    "    # Get the shape of input values\n",
    "    n_values = densor.units\n",
    "    # Get the number of the hidden state vector\n",
    "    n_a = LSTM_cell.units\n",
    "\n",
    "    # Define the input of your model with a shape \n",
    "    X = Input(shape=(Tx, n_values),name='X') #(None, Tx, n_values)\n",
    "\n",
    "    # Tx of current sequence in other hand number of works you have done so far in that day\n",
    "    # Define s0, initial hidden state for the decoder LSTM\n",
    "    a0 = Input(shape=(n_a,), name='a0') #init\n",
    "    c0 = Input(shape=(n_a,), name='c0') #init\n",
    "    a = a0 \n",
    "    c = c0 \n",
    "    \n",
    "    #no need to save generated outputs we just need last a ,c and x\n",
    "    for t in range(Tx):\n",
    "        #Select the \"t\"th time step vector from X. \n",
    "        x = X[:,t,:] #(None, n_values)\n",
    "        #Use reshaper to reshape x to be (1, n_values)\n",
    "        x = reshaper(x) #(None, 1, n_values)\n",
    "        #Perform one step of the LSTM_cell\n",
    "        a, _, c = LSTM_cell(inputs=x, initial_state=[a,c])\n",
    "        #Apply densor to the hidden state output of LSTM_Cell\n",
    "        out = densor(a)\n",
    "\n",
    "    # So now we have new a, c\n",
    "    x = tf.math.argmax(out,-1)\n",
    "    x = tf.one_hot(x,n_values)\n",
    "    # Use RepeatVector(1) to convert x into a tensor with shape=(None, 1, 90)\n",
    "    x = RepeatVector(1)(x)\n",
    "\n",
    "    #Create an empty list of \"outputs\" to later store your predicted values \n",
    "    outputs = []\n",
    "    #Loop over Ty and generate a value at every time step\n",
    "    for t in range(Ty):\n",
    "        #Perform one step of LSTM_cell\n",
    "        a, _, c = LSTM_cell(inputs=x, initial_state=[a,c])\n",
    "        #Apply Dense layer to the hidden state output of the LSTM_cell\n",
    "        out = densor(a)\n",
    "        #Append the prediction \"out\" to \"outputs\". out.shape = (None, 90)\n",
    "        outputs.append(out)\n",
    "        # Select the next value according to \"out\",\n",
    "        # Set \"x\" to be the one-hot representation of the selected value\n",
    "        x = tf.math.argmax(out,-1)\n",
    "        x = tf.one_hot(x,n_values)\n",
    "        # Use RepeatVector(1) to convert x into a tensor with shape=(None, 1, 90)\n",
    "        x = RepeatVector(1)(x)\n",
    "        \n",
    "    # Step 3: Create model instance with the correct \"inputs\" and \"outputs\" (≈1 line)\n",
    "    inference_model = Model(inputs = [X,a0,c0] , outputs = outputs)\n",
    "    \n",
    "    \n",
    "    return inference_model"
   ]
  },
  {
   "attachments": {},
   "cell_type": "markdown",
   "metadata": {},
   "source": [
    "## Use this model to develop other models"
   ]
  },
  {
   "cell_type": "code",
   "execution_count": 70,
   "metadata": {},
   "outputs": [],
   "source": [
    "# 20 sec run time!!! so heavy because U most for over this!! for solution go next cells ...\n",
    "multi_inference_model = multiInputSequenceInferenceModel(LSTM_cell, densor, Ty = 50,Tx = 10)"
   ]
  },
  {
   "attachments": {},
   "cell_type": "markdown",
   "metadata": {},
   "source": [
    "#### Prediction on multi input inference model (batchSize = 1)"
   ]
  },
  {
   "cell_type": "code",
   "execution_count": 71,
   "metadata": {},
   "outputs": [
    {
     "name": "stdout",
     "output_type": "stream",
     "text": [
      "1/1 [==============================] - 18s 18s/step\n"
     ]
    },
    {
     "data": {
      "text/plain": [
       "(50, 1, 293)"
      ]
     },
     "execution_count": 71,
     "metadata": {},
     "output_type": "execute_result"
    }
   ],
   "source": [
    "multiModelPred = multi_inference_model.predict([testX, a_initializer, c_initializer])\n",
    "np.array(multiModelPred).shape #(Ty, m, n_values) (50, 1, 293)"
   ]
  },
  {
   "attachments": {},
   "cell_type": "markdown",
   "metadata": {},
   "source": [
    "#### Prediction on multi input inference model (batchSize > 1)"
   ]
  },
  {
   "attachments": {},
   "cell_type": "markdown",
   "metadata": {},
   "source": [
    "#### Initializing x,a,c for model "
   ]
  },
  {
   "cell_type": "code",
   "execution_count": 72,
   "metadata": {},
   "outputs": [],
   "source": [
    "testX2 = np.stack((np.squeeze(testX),np.squeeze(testX))) #(m,Tx,n_values) (2, 10, 293)\n",
    "testA2 = np.zeros((2,32))  #(m,n_values) (2, 32)\n",
    "testC2 = np.zeros((2,32))  #(m,n_values) (2, 32)"
   ]
  },
  {
   "cell_type": "code",
   "execution_count": 73,
   "metadata": {},
   "outputs": [
    {
     "name": "stdout",
     "output_type": "stream",
     "text": [
      "1/1 [==============================] - 0s 32ms/step\n"
     ]
    },
    {
     "data": {
      "text/plain": [
       "(50, 2, 293)"
      ]
     },
     "execution_count": 73,
     "metadata": {},
     "output_type": "execute_result"
    }
   ],
   "source": [
    "multiModelPredBatch = multi_inference_model.predict([testX2, testA2, testC2])\n",
    "np.array(multiModelPredBatch).shape #(Ty, m, n_values) (50, 2, 293)"
   ]
  },
  {
   "attachments": {},
   "cell_type": "markdown",
   "metadata": {},
   "source": [
    "#### accessing prediction of training example = 0"
   ]
  },
  {
   "cell_type": "code",
   "execution_count": 74,
   "metadata": {},
   "outputs": [
    {
     "data": {
      "text/plain": [
       "(50, 293)"
      ]
     },
     "execution_count": 74,
     "metadata": {},
     "output_type": "execute_result"
    }
   ],
   "source": [
    "np.array(multiModelPredBatch)[:,0,:].shape"
   ]
  },
  {
   "cell_type": "code",
   "execution_count": 75,
   "metadata": {},
   "outputs": [],
   "source": [
    "'''multi_inference_model\n",
    "<keras.engine.functional.Functional at 0x7f8133e46c40>'''\n",
    "pass"
   ]
  },
  {
   "attachments": {},
   "cell_type": "markdown",
   "metadata": {},
   "source": [
    "#### Comparing multiModelPred uniModelPred (predictions...)"
   ]
  },
  {
   "cell_type": "code",
   "execution_count": 76,
   "metadata": {},
   "outputs": [
    {
     "name": "stdout",
     "output_type": "stream",
     "text": [
      "[[[0.772 0.014 0.053 ... 0.    0.    0.   ]]\n",
      "\n",
      " [[0.772 0.014 0.053 ... 0.    0.    0.   ]]\n",
      "\n",
      " [[0.772 0.014 0.053 ... 0.    0.    0.   ]]\n",
      "\n",
      " ...\n",
      "\n",
      " [[0.772 0.014 0.053 ... 0.    0.    0.   ]]\n",
      "\n",
      " [[0.772 0.014 0.053 ... 0.    0.    0.   ]]\n",
      "\n",
      " [[0.772 0.014 0.053 ... 0.    0.    0.   ]]]\n"
     ]
    }
   ],
   "source": [
    "print(np.array(multiModelPred).round(3))"
   ]
  },
  {
   "cell_type": "code",
   "execution_count": 77,
   "metadata": {},
   "outputs": [
    {
     "name": "stdout",
     "output_type": "stream",
     "text": [
      "[[[0.006 0.005 0.006 ... 0.003 0.003 0.003]]\n",
      "\n",
      " [[0.016 0.009 0.011 ... 0.003 0.003 0.003]]\n",
      "\n",
      " [[0.082 0.02  0.031 ... 0.002 0.002 0.003]]\n",
      "\n",
      " ...\n",
      "\n",
      " [[0.772 0.014 0.053 ... 0.    0.    0.   ]]\n",
      "\n",
      " [[0.772 0.014 0.053 ... 0.    0.    0.   ]]\n",
      "\n",
      " [[0.772 0.014 0.053 ... 0.    0.    0.   ]]]\n"
     ]
    }
   ],
   "source": [
    "print(np.array(uniModelPred).round(3))"
   ]
  },
  {
   "attachments": {},
   "cell_type": "markdown",
   "metadata": {},
   "source": [
    "#### in this part we made a specific model for each number of inputs ... to make Beam Search Faster"
   ]
  },
  {
   "cell_type": "code",
   "execution_count": 78,
   "metadata": {},
   "outputs": [],
   "source": [
    "# in this part we made a specific model for each number of inputs ... to make Beam Search Faster\n",
    "models = [0]\n",
    "for nOfInputs in range(1, 10):\n",
    "    globals()[f\"inferenceModel_{nOfInputs}Inputs\"] = multiInputSequenceInferenceModel(LSTM_cell, densor, Ty = 1,Tx = nOfInputs)\n",
    "    models.append(globals()[f\"inferenceModel_{nOfInputs}Inputs\"])\n",
    "\n",
    "# 15 sec for building 9 models?? greate !! ;)"
   ]
  },
  {
   "cell_type": "code",
   "execution_count": 79,
   "metadata": {},
   "outputs": [
    {
     "name": "stdout",
     "output_type": "stream",
     "text": [
      "[(None, 1, 293), (None, 32), (None, 32)]\n",
      "(None, 293)\n",
      "----------------------------------------\n",
      "[(None, 2, 293), (None, 32), (None, 32)]\n",
      "(None, 293)\n",
      "----------------------------------------\n",
      "[(None, 3, 293), (None, 32), (None, 32)]\n",
      "(None, 293)\n"
     ]
    }
   ],
   "source": [
    "#accessing to models\n",
    "print(models[1].input_shape) # access by index from models array (ex index 2 includes model with 2 input)\n",
    "print(inferenceModel_1Inputs.output_shape)# access by name ...\n",
    "print('----------------------------------------')\n",
    "print(models[2].input_shape) # access by index from models array (ex index 2 includes model with 2 input)\n",
    "print(inferenceModel_2Inputs.output_shape)# access by name ...\n",
    "print('----------------------------------------')\n",
    "print(models[3].input_shape) # access by index from models array (ex index 3 includes model with 3 input)\n",
    "print(inferenceModel_3Inputs.output_shape)# access by name ..."
   ]
  },
  {
   "attachments": {},
   "cell_type": "markdown",
   "metadata": {},
   "source": [
    "#### Prediction on multi input (1 input , 2 inputs ,... ) inference model (batchSize = 2 )"
   ]
  },
  {
   "cell_type": "code",
   "execution_count": 80,
   "metadata": {},
   "outputs": [
    {
     "name": "stdout",
     "output_type": "stream",
     "text": [
      "input_shape => [(None, 1, 293), (None, 32), (None, 32)]\n",
      "output_shape => (None, 293)\n",
      "1/1 [==============================] - 1s 879ms/step\n",
      "input1ModelPred.shape => (2, 293)\n"
     ]
    }
   ],
   "source": [
    "# 1 input model test\n",
    "#init Data \n",
    "testX1 = np.stack((testX[:,1,:],testX[:,1,:])) #(m,Tx,n_values) (2, 1, 293)\n",
    "testA1 = np.zeros((2,32))  #(m,n_values) (2, 32)\n",
    "testC1 = np.zeros((2,32))  #(m,n_values) (2, 32)\n",
    "#model\n",
    "input1Model = models[1]\n",
    "print('input_shape =>',input1Model.input_shape)\n",
    "print('output_shape =>',input1Model.output_shape)\n",
    "input1ModelPred = input1Model.predict([testX1,testA1,testC1])\n",
    "#print('input1ModelPred =>',np.array(input1ModelPred))\n",
    "print('input1ModelPred.shape =>',np.array(input1ModelPred).shape)"
   ]
  },
  {
   "cell_type": "code",
   "execution_count": 81,
   "metadata": {},
   "outputs": [
    {
     "name": "stdout",
     "output_type": "stream",
     "text": [
      "input_shape => [(None, 2, 293), (None, 32), (None, 32)]\n",
      "output_shape => (None, 293)\n",
      "1/1 [==============================] - 1s 1s/step\n",
      "input2ModelPred.shape => (2, 293)\n"
     ]
    }
   ],
   "source": [
    "# 2 input model test\n",
    "#init Data \n",
    "temp = np.squeeze(np.stack((testX[:,1,:],testX[:,1,:])))\n",
    "testX2 = np.stack((temp,temp),axis = 1) #(m,Tx,n_values) (2, 2, 293)\n",
    "testA2 = np.zeros((2,32))  #(m,n_values) (2, 32)\n",
    "testC2 = np.zeros((2,32))  #(m,n_values) (2, 32)\n",
    "#model\n",
    "input2Model = models[2]\n",
    "print('input_shape =>',input2Model.input_shape)\n",
    "print('output_shape =>',input2Model.output_shape)\n",
    "input2ModelPred = input2Model.predict([testX2,testA2,testC2])\n",
    "#print('input2ModelPred =>',np.array(input2ModelPred))\n",
    "print('input2ModelPred.shape =>',np.array(input2ModelPred).shape)"
   ]
  },
  {
   "cell_type": "code",
   "execution_count": 82,
   "metadata": {},
   "outputs": [
    {
     "name": "stdout",
     "output_type": "stream",
     "text": [
      "input_shape => [(None, 3, 293), (None, 32), (None, 32)]\n",
      "output_shape => (None, 293)\n",
      "WARNING:tensorflow:5 out of the last 6 calls to <function Model.make_predict_function.<locals>.predict_function at 0x7fb90ab12af0> triggered tf.function retracing. Tracing is expensive and the excessive number of tracings could be due to (1) creating @tf.function repeatedly in a loop, (2) passing tensors with different shapes, (3) passing Python objects instead of tensors. For (1), please define your @tf.function outside of the loop. For (2), @tf.function has reduce_retracing=True option that can avoid unnecessary retracing. For (3), please refer to https://www.tensorflow.org/guide/function#controlling_retracing and https://www.tensorflow.org/api_docs/python/tf/function for  more details.\n",
      "1/1 [==============================] - 1s 1s/step\n",
      "input3ModelPred.shape => (2, 293)\n"
     ]
    }
   ],
   "source": [
    "# 3 input model test\n",
    "#init Data \n",
    "temp = np.squeeze(np.stack((testX[:,1,:],testX[:,1,:])))\n",
    "testX3 = np.stack((temp,temp,temp),axis = 1) #(m,Tx,n_values) (2, 3, 293)\n",
    "testA3 = np.zeros((2,32))  #(m,n_values) (2, 32)\n",
    "testC3 = np.zeros((2,32))  #(m,n_values) (2, 32)\n",
    "#model\n",
    "input3Model = models[3]\n",
    "print('input_shape =>',input3Model.input_shape)\n",
    "print('output_shape =>',input3Model.output_shape)\n",
    "input3ModelPred = input3Model.predict([testX3,testA3,testC3])\n",
    "#print('input3ModelPred =>',np.array(input3ModelPred))\n",
    "print('input3ModelPred.shape =>',np.array(input3ModelPred).shape)"
   ]
  },
  {
   "attachments": {},
   "cell_type": "markdown",
   "metadata": {},
   "source": [
    "# Beam Search\n",
    "\n",
    "first what is beam search . imagin you aleady have a trained model on TRM that recommends tasks in a sequence!! thats awesome! but you have two options 1- model can return(recommend) one single next work that is selected py highest probability! but if you choose highest probability in each step, it doesn't garantias us to give highest multiplied probability!! Perhaps you stsrted with low probability task but in sequence you get highest!! so we use probabilistic algorythm called Beam Search!\n",
    "\n",
    "\n",
    "#### The beam width tips\n",
    "The beam width B is a parameter for beam search. Large values of B yield to better result but with slower performance and increased memory. Small values of B lead to worse results but is less computationally intensive. A standard value for B is around 10\n",
    "\n",
    "##### important note : So in general AI team recoomended you to use Sequence Reccomendation with Beam Search\n",
    "or fisrt calculate Beam Search then just use first recommended task from that sequence\n",
    "\n",
    "\n",
    "![Alt text](images/beam_andrew%20Ng.png)\n",
    "\n",
    "## Beam Search Implimentation\n",
    "\n",
    "![Alt text](images/beam_diagram.jpg)\n",
    "\n",
    "## Beam Search Formula\n",
    "\n",
    "![Alt text](images/beam_formula.png)"
   ]
  },
  {
   "attachments": {},
   "cell_type": "markdown",
   "metadata": {},
   "source": []
  },
  {
   "cell_type": "code",
   "execution_count": 83,
   "metadata": {},
   "outputs": [],
   "source": [
    "def indexToModelInput(indexs,n_values = 293):\n",
    "    oh = tf.one_hot(indexs,n_values,axis = -1)\n",
    "    sw = np.swapaxes(oh,0,1)\n",
    "    return sw"
   ]
  },
  {
   "cell_type": "code",
   "execution_count": 84,
   "metadata": {},
   "outputs": [
    {
     "data": {
      "text/plain": [
       "array([[[0., 1., 0., 0., 0., 0., 0., 0., 0.],\n",
       "        [0., 0., 0., 0., 0., 1., 0., 0., 0.],\n",
       "        [0., 0., 0., 0., 0., 1., 0., 0., 0.]],\n",
       "\n",
       "       [[0., 0., 1., 0., 0., 0., 0., 0., 0.],\n",
       "        [0., 0., 0., 0., 0., 0., 1., 0., 0.],\n",
       "        [0., 0., 0., 0., 0., 0., 1., 0., 0.]],\n",
       "\n",
       "       [[0., 0., 0., 1., 0., 0., 0., 0., 0.],\n",
       "        [1., 0., 0., 0., 0., 0., 0., 0., 0.],\n",
       "        [1., 0., 0., 0., 0., 0., 0., 0., 0.]]], dtype=float32)"
      ]
     },
     "execution_count": 84,
     "metadata": {},
     "output_type": "execute_result"
    }
   ],
   "source": [
    "#(tx,m) to (m,Tx,n_values)\n",
    "arr = np.array([[1,2,3],[5,6,0],[5,6,0]])\n",
    "indexToModelInput(arr,n_values = 9)"
   ]
  },
  {
   "cell_type": "code",
   "execution_count": 85,
   "metadata": {},
   "outputs": [],
   "source": [
    "def currentValue(matrix ,width = 3):\n",
    "    fattenMatrix = matrix.flatten()\n",
    "    value = fattenMatrix[np.sort((-matrix).flatten().argsort()[0:width])]\n",
    "    return (np.expand_dims(value,axis=0)).T\n",
    "#----------------------------------------------------------------\n",
    "def LastIndexs(matrix,indexs,width = 3 ,n_values = n_values):\n",
    "    sort = (-matrix).flatten().argsort()[0:width]\n",
    "    try :\n",
    "        newIndexs = indexs[: , np.sort(sort) // n_values] \n",
    "        newIndex = np.sort(sort) % n_values\n",
    "        newIndex = np.expand_dims(newIndex,axis=0)\n",
    "        newIndexs = np.concatenate((newIndexs, newIndex))\n",
    "        return newIndexs\n",
    "    except :\n",
    "        return np.expand_dims((np.sort(sort) % n_values),axis=0)\n",
    "#----------------------------------------------------------------\n",
    "def epsilonFunc(epsilonType):\n",
    "    if epsilonType == '32':\n",
    "        epsilon = np.finfo(np.float32).eps\n",
    "    if epsilonType == '64':\n",
    "        epsilon = np.finfo(np.float64).eps\n",
    "    if epsilonType == 'no_epsilon':\n",
    "        epsilon = 0 \n",
    "    return epsilon    \n",
    "#----------------------------------------------------------------\n",
    "def beamSearch(lastSoftmax, lastA, lastC, models, Ty_max, epsilonType = '64', show = True ,auto = True):\n",
    "    #epsilon for preventing from underflow\n",
    "    epsilon = epsilonFunc(epsilonType)\n",
    "    # initializing indexs\n",
    "    indexs = 0\n",
    "    values = []\n",
    "    #----------------------------------------------------------------\n",
    "    for i in range(Ty_max):\n",
    "        # --- hyper prameter t ---\n",
    "        t = (i + 1) ** 0.7\n",
    "        # ------------------------\n",
    "        if i == 0 : \n",
    "            modelMatrix = lastSoftmax\n",
    "            indexs = LastIndexs(modelMatrix,indexs,width = 3 ,n_values = n_values)\n",
    "            zeroIndex = indexs.copy() #just for printer\n",
    "        #------------------------------------------------------------    \n",
    "        value = currentValue(modelMatrix ,width = 3)\n",
    "        valueCopy = value.copy()\n",
    "        #------------------------------------------------------------\n",
    "        #select models[i+ 1] with i + 1 input ... to acive modelMatrix\n",
    "        modelMatrix = models[i+1].predict([indexToModelInput(indexs,n_values),lastA,lastC]) \n",
    "        modelMatrixCopy = modelMatrix.copy() #just for printer\n",
    "        if i == 0:\n",
    "            value = log(value + epsilon) # preventing -inf\n",
    "        modelMatrix = value + log(modelMatrix + epsilon) #epsilon for preventing -inf and log for preventing memory underflow\n",
    "        values.append((value/t).tolist())\n",
    "        #------------------------------------------------------------\n",
    "        indexs = LastIndexs(modelMatrix,indexs,width = 3 ,n_values = n_values)\n",
    "        #---------------------------Printer--------------------------\n",
    "        if show :\n",
    "            print('------------- step '+str(i)+' -------------')\n",
    "            if i == 0:\n",
    "                print('firstSoftmax.shape => \\n',lastSoftmax.shape)\n",
    "                print('firstSoftmax => \\n',lastSoftmax)\n",
    "                print('zeroIndex => \\n',zeroIndex)\n",
    "            print('number of model inputs =>' , i+1)   \n",
    "            print('valueCopy => \\n',valueCopy)\n",
    "            print('modelMatrix => \\n',modelMatrix) \n",
    "            print('modelMatrix.shape => \\n',modelMatrix.shape)\n",
    "            #print('value => \\n',value)\n",
    "            print('indexs => \\n',indexs)\n",
    "    #------------------------------------------------------------\n",
    "    value = currentValue(modelMatrix ,width = 3) \n",
    "    if show :\n",
    "        print('finalValue => \\n',value)  \n",
    "    #---------------------------------------------\n",
    "    values.append((value/t).tolist())\n",
    "    values = np.array(values)\n",
    "    #-------- normalized beam search -------------\n",
    "    swapedValues = np.swapaxes(values.copy(),0,2)\n",
    "    valuesLen = swapedValues.shape[-1]\n",
    "    beam_width = swapedValues.shape[1]\n",
    "    row = values.argmax() // valuesLen\n",
    "    col = values.argmax() %  valuesLen\n",
    "    swapedValues = np.squeeze(swapedValues,axis = 0)\n",
    "    autoBeamSequence = indexs.T[row,:col +1]\n",
    "    #---------------------------------------------\n",
    "    beamSequence = np.array(indexs)[:,value.argmax()]\n",
    "    #---------------------------------------------\n",
    "    if auto :\n",
    "        return autoBeamSequence\n",
    "    else :\n",
    "        return beamSequence"
   ]
  },
  {
   "cell_type": "code",
   "execution_count": 86,
   "metadata": {},
   "outputs": [
    {
     "name": "stdout",
     "output_type": "stream",
     "text": [
      "1/1 [==============================] - 0s 21ms/step\n",
      "1/1 [==============================] - 0s 20ms/step\n",
      "1/1 [==============================] - 0s 18ms/step\n",
      "1/1 [==============================] - 0s 21ms/step\n",
      "WARNING:tensorflow:6 out of the last 11 calls to <function Model.make_predict_function.<locals>.predict_function at 0x7fb91fdee700> triggered tf.function retracing. Tracing is expensive and the excessive number of tracings could be due to (1) creating @tf.function repeatedly in a loop, (2) passing tensors with different shapes, (3) passing Python objects instead of tensors. For (1), please define your @tf.function outside of the loop. For (2), @tf.function has reduce_retracing=True option that can avoid unnecessary retracing. For (3), please refer to https://www.tensorflow.org/guide/function#controlling_retracing and https://www.tensorflow.org/api_docs/python/tf/function for  more details.\n",
      "1/1 [==============================] - 1s 1s/step\n",
      "1/1 [==============================] - 2s 2s/step\n",
      "1/1 [==============================] - 2s 2s/step\n"
     ]
    },
    {
     "data": {
      "text/plain": [
       "array([0, 0, 0, 0, 0, 0, 0])"
      ]
     },
     "execution_count": 86,
     "metadata": {},
     "output_type": "execute_result"
    }
   ],
   "source": [
    "xInit = np.expand_dims(testX[:,0,:],axis = 1) #(m,Tx,n_values) (1, 1, 293)\n",
    "aInit = np.zeros((1,32))                      #(1,n) (1, 32)\n",
    "cInit = np.zeros((1,32))                      #(1,n) (1, 32)\n",
    "#----------------------------------------------------------------\n",
    "#in this part we assume that we feed our X's to our model and thats time for generating\n",
    "# Function parameters\n",
    "show = True\n",
    "Ty_max = 6\n",
    "epsilonType = '64'\n",
    "indexs = 0\n",
    "lastSoftmax = models[1].predict([xInit,aInit,cInit])\n",
    "lastA = np.zeros((3,32))                      #(beam_width,n) (3, 32) processed hidden state from last model\n",
    "lastC = np.zeros((3,32))                      #(beam_width,n) (3, 32) processed hidden cell from last model\n",
    "models = models\n",
    "#----------------------------------------------------------------\n",
    "sequence = beamSearch(lastSoftmax, lastA, lastC, models, Ty_max,show=False,auto = False)\n",
    "sequence"
   ]
  },
  {
   "attachments": {},
   "cell_type": "markdown",
   "metadata": {},
   "source": [
    "#### A simple test for beam search ..."
   ]
  },
  {
   "cell_type": "code",
   "execution_count": 87,
   "metadata": {},
   "outputs": [
    {
     "data": {
      "text/plain": [
       "[[[1], [2], [3]]]"
      ]
     },
     "execution_count": 87,
     "metadata": {},
     "output_type": "execute_result"
    }
   ],
   "source": [
    "values = []\n",
    "arr1 = np.array([[1,2,3]]).T\n",
    "#arr1 = np.concatenate((arr1),axis=0)\n",
    "#arr1 = np.concatenate((arr1,arr1),axis=0)\n",
    "values.append(arr1.tolist())\n",
    "values"
   ]
  },
  {
   "cell_type": "code",
   "execution_count": 88,
   "metadata": {},
   "outputs": [],
   "source": [
    "def beamSearchTest(mat ,lastSoftmax, lastA, lastC, models, Ty, epsilonType = '64', show = True):\n",
    "    #epsilon for preventing from underflow\n",
    "    epsilon = epsilonFunc(epsilonType)\n",
    "    # initializing indexs\n",
    "    indexs = 0\n",
    "    values = []\n",
    "    #----------------------------------------------------------------\n",
    "    for i in range(Ty):\n",
    "        t = (i + 1) ** 0.7\n",
    "        if i == 0 : \n",
    "            modelMatrix = lastSoftmax\n",
    "            indexs = LastIndexs(modelMatrix,indexs,width = 3 ,n_values = n_values)\n",
    "            zeroIndex = indexs.copy() #just for printer\n",
    "        #------------------------------------------------------------    \n",
    "        value = currentValue(modelMatrix ,width = 3)\n",
    "        valueCopy = value.copy()\n",
    "        values.append((value/t).tolist())\n",
    "        #------------------------------------------------------------\n",
    "        modelMatrix = mat[i]\n",
    "        #------------------------------------------------------------\n",
    "        modelMatrixCopy = modelMatrix.copy() #just for printer\n",
    "        if i == 0:\n",
    "            pass\n",
    "        modelMatrix = value + modelMatrix\n",
    "        #------------------------------------------------------------\n",
    "        indexs = LastIndexs(modelMatrix,indexs,width = 3 ,n_values = n_values)\n",
    "        #---------------------------Printer--------------------------\n",
    "        if show :\n",
    "            print('------------- step '+str(i)+' -------------')\n",
    "            if i == 0:\n",
    "                print('firstSoftmax.shape => \\n',lastSoftmax.shape)\n",
    "                print('firstSoftmax => \\n',lastSoftmax)\n",
    "                print('zeroIndex => \\n',zeroIndex)\n",
    "            print('number of model inputs =>' , i+1)   \n",
    "            print('valueCopy => \\n',valueCopy)\n",
    "            print('modelMatrix => \\n',modelMatrix) \n",
    "            print('modelMatrix.shape => \\n',modelMatrix.shape)\n",
    "            #print('value => \\n',value)\n",
    "            print('indexs => \\n',indexs)\n",
    "        #------------------------------------------------------------\n",
    "    value = currentValue(modelMatrix ,width = 3)\n",
    "    #---------------------------------------------\n",
    "    valueCopy = value.copy()\n",
    "    values.append((value/t).tolist())\n",
    "    values = np.array(values)\n",
    "    #-------- normalized beam search -------------\n",
    "    swapedValues = np.swapaxes(values.copy(),0,2)\n",
    "    valuesLen = swapedValues.shape[-1]\n",
    "    beam_width = swapedValues.shape[1]\n",
    "    row = values.argmax() // valuesLen\n",
    "    col = values.argmax() %  valuesLen\n",
    "    swapedValues = np.squeeze(swapedValues,axis = 0)\n",
    "    autoBeamSequence = (indexs.T)[row,:col +1]\n",
    "    #---------------------------------------------\n",
    "    if show : \n",
    "        print('values=> \\n' , values)\n",
    "        print('finalValue => \\n',value)     \n",
    "    return autoBeamSequence"
   ]
  },
  {
   "attachments": {},
   "cell_type": "markdown",
   "metadata": {},
   "source": [
    "#### Initialized values for test ..."
   ]
  },
  {
   "cell_type": "code",
   "execution_count": 89,
   "metadata": {},
   "outputs": [
    {
     "name": "stdout",
     "output_type": "stream",
     "text": [
      "------------- step 0 -------------\n",
      "firstSoftmax.shape => \n",
      " (5,)\n",
      "firstSoftmax => \n",
      " [0.4 0.  0.5 0.4 0.4]\n",
      "zeroIndex => \n",
      " [[0 2 3]]\n",
      "number of model inputs => 1\n",
      "valueCopy => \n",
      " [[0.4]\n",
      " [0.5]\n",
      " [0.4]]\n",
      "modelMatrix => \n",
      " [[0.7 0.6 1.  0.7 0.7]\n",
      " [1.1 1.  0.6 1.  0.7]\n",
      " [1.2 1.3 0.9 1.2 0.5]]\n",
      "modelMatrix.shape => \n",
      " (3, 5)\n",
      "indexs => \n",
      " [[3 3 3]\n",
      " [0 1 3]]\n",
      "------------- step 1 -------------\n",
      "number of model inputs => 2\n",
      "valueCopy => \n",
      " [[1.2]\n",
      " [1.3]\n",
      " [1.2]]\n",
      "modelMatrix => \n",
      " [[1.7 1.3 1.6 1.3 1.3]\n",
      " [1.9 1.5 1.4 1.5 1.6]\n",
      " [1.7 1.4 1.8 1.7 1.7]]\n",
      "modelMatrix.shape => \n",
      " (3, 5)\n",
      "indexs => \n",
      " [[3 3 3]\n",
      " [0 1 3]\n",
      " [0 0 2]]\n",
      "------------- step 2 -------------\n",
      "number of model inputs => 3\n",
      "valueCopy => \n",
      " [[1.7]\n",
      " [1.9]\n",
      " [1.8]]\n",
      "modelMatrix => \n",
      " [[2.1 2.5 2.3 1.9 2.4]\n",
      " [2.9 2.4 2.8 2.2 2.5]\n",
      " [2.2 2.2 2.6 2.3 2.8]]\n",
      "modelMatrix.shape => \n",
      " (3, 5)\n",
      "indexs => \n",
      " [[3 3 3]\n",
      " [1 1 3]\n",
      " [0 0 2]\n",
      " [0 2 4]]\n",
      "------------- step 3 -------------\n",
      "number of model inputs => 4\n",
      "valueCopy => \n",
      " [[2.9]\n",
      " [2.8]\n",
      " [2.8]]\n",
      "modelMatrix => \n",
      " [[3.4 3.  3.3 3.8 3.3]\n",
      " [2.8 3.  2.9 3.8 3.8]\n",
      " [3.6 3.4 3.6 3.  3.1]]\n",
      "modelMatrix.shape => \n",
      " (3, 5)\n",
      "indexs => \n",
      " [[3 3 3]\n",
      " [1 1 1]\n",
      " [0 0 0]\n",
      " [0 2 2]\n",
      " [3 3 4]]\n",
      "------------- step 4 -------------\n",
      "number of model inputs => 5\n",
      "valueCopy => \n",
      " [[3.8]\n",
      " [3.8]\n",
      " [3.8]]\n",
      "modelMatrix => \n",
      " [[4.3 4.2 3.8 4.8 4.2]\n",
      " [4.3 4.1 4.1 4.2 4.6]\n",
      " [4.5 4.2 3.8 4.6 4.1]]\n",
      "modelMatrix.shape => \n",
      " (3, 5)\n",
      "indexs => \n",
      " [[3 3 3]\n",
      " [1 1 1]\n",
      " [0 0 0]\n",
      " [0 2 2]\n",
      " [3 3 4]\n",
      " [3 4 3]]\n",
      "------------- step 5 -------------\n",
      "number of model inputs => 6\n",
      "valueCopy => \n",
      " [[4.8]\n",
      " [4.6]\n",
      " [4.6]]\n",
      "modelMatrix => \n",
      " [[5.4 4.8 5.5 5.2 5.3]\n",
      " [5.  5.  5.2 5.6 4.7]\n",
      " [4.9 4.6 5.3 5.3 4.8]]\n",
      "modelMatrix.shape => \n",
      " (3, 5)\n",
      "indexs => \n",
      " [[3 3 3]\n",
      " [1 1 1]\n",
      " [0 0 0]\n",
      " [0 0 2]\n",
      " [3 3 3]\n",
      " [3 3 4]\n",
      " [0 2 3]]\n",
      "values=> \n",
      " [[[0.4       ]\n",
      "  [0.5       ]\n",
      "  [0.4       ]]\n",
      "\n",
      " [[0.73868665]\n",
      "  [0.80024387]\n",
      "  [0.73868665]]\n",
      "\n",
      " [[0.7878872 ]\n",
      "  [0.88057981]\n",
      "  [0.8342335 ]]\n",
      "\n",
      " [[1.09889451]\n",
      "  [1.0610016 ]\n",
      "  [1.0610016 ]]\n",
      "\n",
      " [[1.23169901]\n",
      "  [1.23169901]\n",
      "  [1.23169901]]\n",
      "\n",
      " [[1.36941589]\n",
      "  [1.31235689]\n",
      "  [1.31235689]]\n",
      "\n",
      " [[1.54059287]\n",
      "  [1.56912237]\n",
      "  [1.59765187]]]\n",
      "finalValue => \n",
      " [[5.4]\n",
      " [5.5]\n",
      " [5.6]]\n"
     ]
    },
    {
     "data": {
      "text/plain": [
       "array([3, 1, 0, 2, 3, 4, 3])"
      ]
     },
     "execution_count": 89,
     "metadata": {},
     "output_type": "execute_result"
    }
   ],
   "source": [
    "#--------------------------------------\n",
    "n_values = 5\n",
    "np.random.seed(seed=2)\n",
    "#l1------------------------------------\n",
    "a = np.random.rand(n_values).round(1)\n",
    "#l2------------------------------------\n",
    "a10 = np.random.rand(n_values).round(1)\n",
    "a20 = np.random.rand(n_values).round(1)\n",
    "a30 = np.random.rand(n_values).round(1)\n",
    "#l3------------------------------------\n",
    "a11 = np.random.rand(n_values).round(1)\n",
    "a21 = np.random.rand(n_values).round(1)\n",
    "a31 = np.random.rand(n_values).round(1)\n",
    "#l4------------------------------------\n",
    "a12 = np.random.rand(n_values).round(1)\n",
    "a22 = np.random.rand(n_values).round(1)\n",
    "a32 = np.random.rand(n_values).round(1)\n",
    "#l5------------------------------------\n",
    "a13 = np.random.rand(n_values).round(1)\n",
    "a23 = np.random.rand(n_values).round(1)\n",
    "a33 = np.random.rand(n_values).round(1)\n",
    "#l6------------------------------------\n",
    "a14 = np.random.rand(n_values).round(1)\n",
    "a24 = np.random.rand(n_values).round(1)\n",
    "a34 = np.random.rand(n_values).round(1)\n",
    "#l7-------------------------------------\n",
    "a15 = np.random.rand(n_values).round(1)\n",
    "a25 = np.random.rand(n_values).round(1)\n",
    "a35 = np.random.rand(n_values).round(1)\n",
    "#l7-------------------------------------\n",
    "a16 = np.random.rand(n_values).round(1)\n",
    "a26 = np.random.rand(n_values).round(1)\n",
    "a36 = np.random.rand(n_values).round(1)\n",
    "#---------------------------------------\n",
    "mat0 = np.stack((a10,a20,a30))\n",
    "mat1 = np.stack((a11,a21,a31))\n",
    "mat2 = np.stack((a12,a22,a32))\n",
    "mat3 = np.stack((a13,a23,a33))\n",
    "mat4 = np.stack((a14,a24,a34))\n",
    "mat5 = np.stack((a15,a25,a35))\n",
    "mat6 = np.stack((a16,a26,a36))\n",
    "mat = np.stack((mat0,mat1,mat2,mat3,mat4,mat5,mat6))\n",
    "#----------------------------------------------------------------\n",
    "#in this part we assume that we feed our X's to our model and thats time for generating\n",
    "# Function parameters\n",
    "show = True\n",
    "Ty = 6\n",
    "epsilonType = '64'\n",
    "indexs = 0\n",
    "models = models\n",
    "mat = mat\n",
    "#----------------------------------------------------------------\n",
    "lastA = None # no need to use this in test\n",
    "lastC = None # no need to use this in test\n",
    "#----------------------------------------------------------------\n",
    "autoBeamSequence = beamSearchTest(mat ,a, lastA , lastA, models, Ty)\n",
    "autoBeamSequence"
   ]
  },
  {
   "attachments": {},
   "cell_type": "markdown",
   "metadata": {},
   "source": [
    "diagram of beam search test on specified value ..."
   ]
  },
  {
   "attachments": {},
   "cell_type": "markdown",
   "metadata": {},
   "source": [
    "![Alt text](images/beam_test.jpg)"
   ]
  },
  {
   "attachments": {},
   "cell_type": "markdown",
   "metadata": {},
   "source": [
    "### And original beamSearch() ..."
   ]
  },
  {
   "cell_type": "code",
   "execution_count": 90,
   "metadata": {},
   "outputs": [
    {
     "name": "stdout",
     "output_type": "stream",
     "text": [
      "1/1 [==============================] - 0s 21ms/step\n",
      "1/1 [==============================] - 0s 19ms/step\n",
      "1/1 [==============================] - 0s 18ms/step\n",
      "1/1 [==============================] - 0s 18ms/step\n",
      "1/1 [==============================] - 0s 20ms/step\n",
      "1/1 [==============================] - 0s 19ms/step\n",
      "1/1 [==============================] - 0s 22ms/step\n"
     ]
    },
    {
     "data": {
      "text/plain": [
       "array([2, 0])"
      ]
     },
     "execution_count": 90,
     "metadata": {},
     "output_type": "execute_result"
    }
   ],
   "source": [
    "#--------------------------------------\n",
    "n_values = 293\n",
    "#------------------------------------------\n",
    "xInit = np.expand_dims(testX[:,0,:],axis = 1) #(m,Tx,n_values) (1, 1, 293)\n",
    "aInit = np.zeros((1,32))                      #(1,n) (1, 32)\n",
    "cInit = np.zeros((1,32))                      #(1,n) (1, 32)\n",
    "#----------------------------------------------------------------\n",
    "#in this part we assume that we feed our X's to our model and thats time for generating\n",
    "# Function parameters\n",
    "show = True\n",
    "Ty = 6\n",
    "epsilonType = '64'\n",
    "indexs = 0\n",
    "lastSoftmax = models[1].predict([xInit,aInit,cInit])\n",
    "lastA = np.zeros((3,32))                      #(beam_width,n) (3, 32) processed hidden state from last model\n",
    "lastC = np.zeros((3,32))                      #(beam_width,n) (3, 32) processed hidden cell from last model\n",
    "models = models\n",
    "#----------------------------------------------------------------\n",
    "sequence = beamSearch(lastSoftmax, lastA, lastC, models, Ty,show=False)\n",
    "sequence"
   ]
  },
  {
   "attachments": {},
   "cell_type": "markdown",
   "metadata": {},
   "source": [
    "dont worry if you just saw all `zeros` vactor ... that's because of weak learning. "
   ]
  },
  {
   "attachments": {},
   "cell_type": "markdown",
   "metadata": {},
   "source": [
    "---"
   ]
  },
  {
   "cell_type": "code",
   "execution_count": 91,
   "metadata": {},
   "outputs": [
    {
     "data": {
      "text/plain": [
       "[(None, 4, 293), (None, 32), (None, 32)]"
      ]
     },
     "execution_count": 91,
     "metadata": {},
     "output_type": "execute_result"
    }
   ],
   "source": [
    "models[4].input_shape"
   ]
  },
  {
   "cell_type": "code",
   "execution_count": 92,
   "metadata": {},
   "outputs": [
    {
     "data": {
      "text/plain": [
       "(1, 293)"
      ]
     },
     "execution_count": 92,
     "metadata": {},
     "output_type": "execute_result"
    }
   ],
   "source": [
    "temp = (np.stack((testX[:,1,:])))\n",
    "temp.shape\n",
    "np.zeros((1,293)).shape"
   ]
  },
  {
   "cell_type": "code",
   "execution_count": 93,
   "metadata": {},
   "outputs": [
    {
     "name": "stdout",
     "output_type": "stream",
     "text": [
      "1/1 [==============================] - 0s 26ms/step\n"
     ]
    }
   ],
   "source": [
    "x = np.zeros((1,4,293))\n",
    "a = np.zeros((1,32))  #(m,n_values) (1, 32)\n",
    "c = np.zeros((1,32))  #(m,n_values) (1, 32)\n",
    "#----------------------------------------------------\n",
    "numberOfInputs = x.shape[1]\n",
    "model = models[numberOfInputs]\n",
    "lastSoftmax = model.predict([x,a,c])\n",
    "lastA = np.zeros((3,32))                      #(beam_width,n) (3, 32) processed hidden state from last model\n",
    "lastC = np.zeros((3,32))                      #(beam_width,n) (3, 32) processed hidden cell from last model\n",
    "#lastSoftmax"
   ]
  },
  {
   "cell_type": "code",
   "execution_count": 94,
   "metadata": {},
   "outputs": [
    {
     "name": "stdout",
     "output_type": "stream",
     "text": [
      "input_shape => [(None, 3, 293), (None, 32), (None, 32)]\n",
      "output_shape => (None, 293)\n",
      "1/1 [==============================] - 0s 21ms/step\n",
      "input3ModelPred.shape => (2, 293)\n"
     ]
    }
   ],
   "source": [
    "temp = np.squeeze(np.stack((testX[:,1,:],testX[:,1,:])))\n",
    "testX3 = np.stack((temp,temp,temp),axis = 1) #(m,Tx,n_values) (2, 3, 293)\n",
    "testA3 = np.zeros((2,32))  #(m,n_values) (2, 32)\n",
    "testC3 = np.zeros((2,32))  #(m,n_values) (2, 32)\n",
    "#model\n",
    "input3Model = models[3]\n",
    "print('input_shape =>',input3Model.input_shape)\n",
    "print('output_shape =>',input3Model.output_shape)\n",
    "input3ModelPred = input3Model.predict([testX3,testA3,testC3])\n",
    "#print('input3ModelPred =>',np.array(input3ModelPred))\n",
    "print('input3ModelPred.shape =>',np.array(input3ModelPred).shape)"
   ]
  },
  {
   "cell_type": "code",
   "execution_count": 95,
   "metadata": {},
   "outputs": [],
   "source": [
    "def multiInputHiddenCellSequenceInferenceModel(LSTM_cell, densor,Ty,Tx):\n",
    "    \"\"\"\n",
    "    Uses the trained \"LSTM_cell\" and \"densor\" from model() to generate a sequence of values.\n",
    "\n",
    "    Arguments:\n",
    "    LSTM_cell -- the trained \"LSTM_cell\" from model(), Keras layer object\n",
    "    densor -- the trained \"densor\" from model(), Keras layer object\n",
    "    Ty -- integer, number of time steps to generate\n",
    "    sequence -- sequence of works you have done so far in that day\n",
    "\n",
    "    Returns:\n",
    "    inference_model -- Keras model instance\n",
    "    \"\"\"\n",
    "    # Get the shape of input values\n",
    "    n_values = densor.units\n",
    "    # Get the number of the hidden state vector\n",
    "    n_a = LSTM_cell.units\n",
    "\n",
    "    # Define the input of your model with a shape \n",
    "    X = Input(shape=(Tx, n_values),name='X') #(None, Tx, n_values)\n",
    "\n",
    "    # Tx of current sequence in other hand number of works you have done so far in that day\n",
    "    # Define s0, initial hidden state for the decoder LSTM\n",
    "    a0 = Input(shape=(n_a,), name='a0') #init\n",
    "    c0 = Input(shape=(n_a,), name='c0') #init\n",
    "    a = a0 \n",
    "    c = c0 \n",
    "    \n",
    "    #no need to save generated outputs we just need last a ,c and x\n",
    "    for t in range(Tx):\n",
    "        #Select the \"t\"th time step vector from X. \n",
    "        x = X[:,t,:] #(None, n_values)\n",
    "        #Use reshaper to reshape x to be (1, n_values)\n",
    "        x = reshaper(x) #(None, 1, n_values)\n",
    "        #Perform one step of the LSTM_cell\n",
    "        a, _, c = LSTM_cell(inputs=x, initial_state=[a,c])\n",
    "        #Apply densor to the hidden state output of LSTM_Cell\n",
    "        out = densor(a)\n",
    "\n",
    "    # So now we have new a, c\n",
    "    x = tf.math.argmax(out,-1)\n",
    "    x = tf.one_hot(x,n_values)\n",
    "    # Use RepeatVector(1) to convert x into a tensor with shape=(None, 1, 90)\n",
    "    x = RepeatVector(1)(x)\n",
    "\n",
    "    #Create an empty list of \"outputs\" to later store your predicted values \n",
    "    outputs = []\n",
    "    #Loop over Ty and generate a value at every time step\n",
    "    for t in range(Ty):\n",
    "        #Perform one step of LSTM_cell\n",
    "        a, _, c = LSTM_cell(inputs=x, initial_state=[a,c])\n",
    "        #Apply Dense layer to the hidden state output of the LSTM_cell\n",
    "        out = densor(a)\n",
    "        #Append the prediction \"out\" to \"outputs\". out.shape = (None, 90)\n",
    "        outputs.append(out)\n",
    "        # Select the next value according to \"out\",\n",
    "        # Set \"x\" to be the one-hot representation of the selected value\n",
    "        x = tf.math.argmax(out,-1)\n",
    "        x = tf.one_hot(x,n_values)\n",
    "        #RepeatVector(1) to convert x into a tensor with shape=(None, 1, 90)\n",
    "        x = RepeatVector(1)(x)\n",
    "        \n",
    "    #model instance with the correct \"inputs\" and \"outputs\"\n",
    "    inference_model = Model(inputs = [X,a0,c0] , outputs = [outputs,a,c])\n",
    "    \n",
    "    \n",
    "    return inference_model"
   ]
  },
  {
   "cell_type": "code",
   "execution_count": 96,
   "metadata": {},
   "outputs": [],
   "source": [
    "hiddenCellModel = multiInputHiddenCellSequenceInferenceModel(LSTM_cell, densor, Ty = 1,Tx = 4)"
   ]
  },
  {
   "cell_type": "code",
   "execution_count": 97,
   "metadata": {},
   "outputs": [],
   "source": [
    "hiddenCellModels = [0]\n",
    "for nOfInputs in range(1,5):\n",
    "    hiddenCellModels.append(multiInputHiddenCellSequenceInferenceModel(LSTM_cell, densor, Ty = 1,Tx = nOfInputs))"
   ]
  },
  {
   "cell_type": "code",
   "execution_count": 98,
   "metadata": {},
   "outputs": [],
   "source": [
    "def copyAndStack(array,beamWidth):\n",
    "    matrix = np.zeros((beamWidth,array.shape[-1]))\n",
    "    arange = np.arange(0,beamWidth)\n",
    "    matrix[arange,:] = array.copy()\n",
    "    return matrix"
   ]
  },
  {
   "cell_type": "code",
   "execution_count": 99,
   "metadata": {},
   "outputs": [],
   "source": [
    "def sequenceGenerator(currentSequence,hiddenCellModels = hiddenCellModels ,beamWidth = 3,models = models):\n",
    "    #----------------------------------------------------\n",
    "    initA = np.zeros((1,32))  #init values (m,n_values) (1, 32) \n",
    "    initC = np.zeros((1,32))  #init values (m,n_values) (1, 32)\n",
    "    #----------------------------------------------------\n",
    "    numberOfInputs = currentSequence.shape[1]\n",
    "    model = hiddenCellModels[numberOfInputs]\n",
    "    lastSoftmax,lastA,lastC = model.predict([currentSequence,initA,initC])\n",
    "    #----------------------------------------------------\n",
    "    print(lastA.shape)\n",
    "    lastA = copyAndStack(lastA,beamWidth)\n",
    "    lastC = copyAndStack(lastC,beamWidth)\n",
    "    lastSoftmax = np.squeeze(np.array(lastSoftmax),axis=0)\n",
    "    #----------------------------------------------------\n",
    "    sequence = beamSearch(lastSoftmax, lastA, lastC, models, Ty_max=8,show=False)\n",
    "    #----------------------------------------------------\n",
    "    return sequence"
   ]
  },
  {
   "cell_type": "code",
   "execution_count": 100,
   "metadata": {},
   "outputs": [
    {
     "name": "stdout",
     "output_type": "stream",
     "text": [
      "1/1 [==============================] - 1s 1s/step\n",
      "(1, 32)\n",
      "1/1 [==============================] - 0s 22ms/step\n",
      "1/1 [==============================] - 0s 23ms/step\n",
      "1/1 [==============================] - 0s 23ms/step\n",
      "1/1 [==============================] - 0s 23ms/step\n",
      "1/1 [==============================] - 0s 22ms/step\n",
      "1/1 [==============================] - 0s 20ms/step\n",
      "1/1 [==============================] - 2s 2s/step\n",
      "1/1 [==============================] - 3s 3s/step\n"
     ]
    },
    {
     "data": {
      "text/plain": [
       "array([0])"
      ]
     },
     "execution_count": 100,
     "metadata": {},
     "output_type": "execute_result"
    }
   ],
   "source": [
    "currentSequence = np.zeros((1,4,293)) # what have you done so far...\n",
    "sequenceGenerator(currentSequence,hiddenCellModels = hiddenCellModels ,beamWidth = 3)"
   ]
  },
  {
   "attachments": {},
   "cell_type": "markdown",
   "metadata": {},
   "source": [
    "## Error Analysis\n",
    "When obtaining a predicted y^ that is bad, one can wonder why we did not get a good prediction y*\n",
    "by performing the following error analysis:\n",
    "\n",
    "![Alt text](images/error%20analysis.png)"
   ]
  },
  {
   "cell_type": "code",
   "execution_count": null,
   "metadata": {},
   "outputs": [],
   "source": []
  }
 ],
 "metadata": {
  "kernelspec": {
   "display_name": "Python 3",
   "language": "python",
   "name": "python3"
  },
  "language_info": {
   "codemirror_mode": {
    "name": "ipython",
    "version": 3
   },
   "file_extension": ".py",
   "mimetype": "text/x-python",
   "name": "python",
   "nbconvert_exporter": "python",
   "pygments_lexer": "ipython3",
   "version": "3.9.13"
  },
  "orig_nbformat": 4,
  "vscode": {
   "interpreter": {
    "hash": "aee8b7b246df8f9039afb4144a1f6fd8d2ca17a180786b69acc140d282b71a49"
   }
  }
 },
 "nbformat": 4,
 "nbformat_minor": 2
}
